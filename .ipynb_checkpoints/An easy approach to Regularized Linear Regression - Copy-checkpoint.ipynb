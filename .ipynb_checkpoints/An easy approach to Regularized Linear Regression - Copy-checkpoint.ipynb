{
 "cells": [
  {
   "cell_type": "markdown",
   "metadata": {
    "_uuid": "a5f517ff5988ce6007b8c751e459835c800d8641"
   },
   "source": [
    "# Regularized Linear Regression \n",
    "\n",
    "**This competition helps alot to understand the methodology of a Data Science project and is a good option as a starter in this field.**"
   ]
  },
  {
   "cell_type": "markdown",
   "metadata": {
    "_uuid": "6e56eeb154f9cf98e79d66e0fec10be389c8c599"
   },
   "source": [
    "#### Importing some important libraries to work with"
   ]
  },
  {
   "cell_type": "code",
   "execution_count": 51,
   "metadata": {
    "_cell_guid": "b1076dfc-b9ad-4769-8c92-a6c4dae69d19",
    "_uuid": "8f2839f25d086af736a60e9eeb907d3b93b6e0e5"
   },
   "outputs": [],
   "source": [
    "import numpy as np \n",
    "import pandas as pd\n",
    "import seaborn as sns \n",
    "import matplotlib.pyplot as plt\n",
    "from sklearn.linear_model import Lasso, Ridge, ElasticNet\n",
    "from sklearn.model_selection import cross_val_score\n",
    "from scipy.stats import norm\n",
    "\n",
    "import warnings\n",
    "warnings.filterwarnings(\"ignore\")"
   ]
  },
  {
   "cell_type": "markdown",
   "metadata": {
    "_uuid": "e565bfade6d11c74b0ef3e09fb1786bf7896d7d2"
   },
   "source": [
    "**Load datasets.**"
   ]
  },
  {
   "cell_type": "code",
   "execution_count": 25,
   "metadata": {
    "_uuid": "8dbc40c3451affcb835ec90ef56d3d60bc47e6d8"
   },
   "outputs": [
    {
     "name": "stdout",
     "output_type": "stream",
     "text": [
      "shape of train dataset: (1460, 81)\n",
      "shape of test dataset: (1459, 80)\n"
     ]
    }
   ],
   "source": [
    "train= pd.read_csv('C://Users/Saba Naseem/Desktop/kaggle/House Price Predicion/train.csv')\n",
    "test= pd.read_csv('C://Users/Saba Naseem/Desktop/kaggle/House Price Predicion/test.csv')\n",
    "\n",
    "print(\"shape of train dataset:\", train.shape)\n",
    "print(\"shape of test dataset:\", test.shape)"
   ]
  },
  {
   "cell_type": "code",
   "execution_count": 19,
   "metadata": {
    "_uuid": "e044b84c02e8538c2262fdcbdfc42402867761de"
   },
   "outputs": [
    {
     "data": {
      "text/html": [
       "<div>\n",
       "<style scoped>\n",
       "    .dataframe tbody tr th:only-of-type {\n",
       "        vertical-align: middle;\n",
       "    }\n",
       "\n",
       "    .dataframe tbody tr th {\n",
       "        vertical-align: top;\n",
       "    }\n",
       "\n",
       "    .dataframe thead th {\n",
       "        text-align: right;\n",
       "    }\n",
       "</style>\n",
       "<table border=\"1\" class=\"dataframe\">\n",
       "  <thead>\n",
       "    <tr style=\"text-align: right;\">\n",
       "      <th></th>\n",
       "      <th>Id</th>\n",
       "      <th>MSSubClass</th>\n",
       "      <th>MSZoning</th>\n",
       "      <th>LotFrontage</th>\n",
       "      <th>LotArea</th>\n",
       "      <th>Street</th>\n",
       "      <th>Alley</th>\n",
       "      <th>LotShape</th>\n",
       "      <th>LandContour</th>\n",
       "      <th>Utilities</th>\n",
       "      <th>...</th>\n",
       "      <th>PoolArea</th>\n",
       "      <th>PoolQC</th>\n",
       "      <th>Fence</th>\n",
       "      <th>MiscFeature</th>\n",
       "      <th>MiscVal</th>\n",
       "      <th>MoSold</th>\n",
       "      <th>YrSold</th>\n",
       "      <th>SaleType</th>\n",
       "      <th>SaleCondition</th>\n",
       "      <th>SalePrice</th>\n",
       "    </tr>\n",
       "  </thead>\n",
       "  <tbody>\n",
       "    <tr>\n",
       "      <th>0</th>\n",
       "      <td>1</td>\n",
       "      <td>60</td>\n",
       "      <td>RL</td>\n",
       "      <td>65.0</td>\n",
       "      <td>8450</td>\n",
       "      <td>Pave</td>\n",
       "      <td>NaN</td>\n",
       "      <td>Reg</td>\n",
       "      <td>Lvl</td>\n",
       "      <td>AllPub</td>\n",
       "      <td>...</td>\n",
       "      <td>0</td>\n",
       "      <td>NaN</td>\n",
       "      <td>NaN</td>\n",
       "      <td>NaN</td>\n",
       "      <td>0</td>\n",
       "      <td>2</td>\n",
       "      <td>2008</td>\n",
       "      <td>WD</td>\n",
       "      <td>Normal</td>\n",
       "      <td>208500</td>\n",
       "    </tr>\n",
       "    <tr>\n",
       "      <th>1</th>\n",
       "      <td>2</td>\n",
       "      <td>20</td>\n",
       "      <td>RL</td>\n",
       "      <td>80.0</td>\n",
       "      <td>9600</td>\n",
       "      <td>Pave</td>\n",
       "      <td>NaN</td>\n",
       "      <td>Reg</td>\n",
       "      <td>Lvl</td>\n",
       "      <td>AllPub</td>\n",
       "      <td>...</td>\n",
       "      <td>0</td>\n",
       "      <td>NaN</td>\n",
       "      <td>NaN</td>\n",
       "      <td>NaN</td>\n",
       "      <td>0</td>\n",
       "      <td>5</td>\n",
       "      <td>2007</td>\n",
       "      <td>WD</td>\n",
       "      <td>Normal</td>\n",
       "      <td>181500</td>\n",
       "    </tr>\n",
       "    <tr>\n",
       "      <th>2</th>\n",
       "      <td>3</td>\n",
       "      <td>60</td>\n",
       "      <td>RL</td>\n",
       "      <td>68.0</td>\n",
       "      <td>11250</td>\n",
       "      <td>Pave</td>\n",
       "      <td>NaN</td>\n",
       "      <td>IR1</td>\n",
       "      <td>Lvl</td>\n",
       "      <td>AllPub</td>\n",
       "      <td>...</td>\n",
       "      <td>0</td>\n",
       "      <td>NaN</td>\n",
       "      <td>NaN</td>\n",
       "      <td>NaN</td>\n",
       "      <td>0</td>\n",
       "      <td>9</td>\n",
       "      <td>2008</td>\n",
       "      <td>WD</td>\n",
       "      <td>Normal</td>\n",
       "      <td>223500</td>\n",
       "    </tr>\n",
       "    <tr>\n",
       "      <th>3</th>\n",
       "      <td>4</td>\n",
       "      <td>70</td>\n",
       "      <td>RL</td>\n",
       "      <td>60.0</td>\n",
       "      <td>9550</td>\n",
       "      <td>Pave</td>\n",
       "      <td>NaN</td>\n",
       "      <td>IR1</td>\n",
       "      <td>Lvl</td>\n",
       "      <td>AllPub</td>\n",
       "      <td>...</td>\n",
       "      <td>0</td>\n",
       "      <td>NaN</td>\n",
       "      <td>NaN</td>\n",
       "      <td>NaN</td>\n",
       "      <td>0</td>\n",
       "      <td>2</td>\n",
       "      <td>2006</td>\n",
       "      <td>WD</td>\n",
       "      <td>Abnorml</td>\n",
       "      <td>140000</td>\n",
       "    </tr>\n",
       "    <tr>\n",
       "      <th>4</th>\n",
       "      <td>5</td>\n",
       "      <td>60</td>\n",
       "      <td>RL</td>\n",
       "      <td>84.0</td>\n",
       "      <td>14260</td>\n",
       "      <td>Pave</td>\n",
       "      <td>NaN</td>\n",
       "      <td>IR1</td>\n",
       "      <td>Lvl</td>\n",
       "      <td>AllPub</td>\n",
       "      <td>...</td>\n",
       "      <td>0</td>\n",
       "      <td>NaN</td>\n",
       "      <td>NaN</td>\n",
       "      <td>NaN</td>\n",
       "      <td>0</td>\n",
       "      <td>12</td>\n",
       "      <td>2008</td>\n",
       "      <td>WD</td>\n",
       "      <td>Normal</td>\n",
       "      <td>250000</td>\n",
       "    </tr>\n",
       "  </tbody>\n",
       "</table>\n",
       "<p>5 rows × 81 columns</p>\n",
       "</div>"
      ],
      "text/plain": [
       "   Id  MSSubClass MSZoning  LotFrontage  LotArea Street Alley LotShape  \\\n",
       "0   1          60       RL         65.0     8450   Pave   NaN      Reg   \n",
       "1   2          20       RL         80.0     9600   Pave   NaN      Reg   \n",
       "2   3          60       RL         68.0    11250   Pave   NaN      IR1   \n",
       "3   4          70       RL         60.0     9550   Pave   NaN      IR1   \n",
       "4   5          60       RL         84.0    14260   Pave   NaN      IR1   \n",
       "\n",
       "  LandContour Utilities    ...     PoolArea PoolQC Fence MiscFeature MiscVal  \\\n",
       "0         Lvl    AllPub    ...            0    NaN   NaN         NaN       0   \n",
       "1         Lvl    AllPub    ...            0    NaN   NaN         NaN       0   \n",
       "2         Lvl    AllPub    ...            0    NaN   NaN         NaN       0   \n",
       "3         Lvl    AllPub    ...            0    NaN   NaN         NaN       0   \n",
       "4         Lvl    AllPub    ...            0    NaN   NaN         NaN       0   \n",
       "\n",
       "  MoSold YrSold  SaleType  SaleCondition  SalePrice  \n",
       "0      2   2008        WD         Normal     208500  \n",
       "1      5   2007        WD         Normal     181500  \n",
       "2      9   2008        WD         Normal     223500  \n",
       "3      2   2006        WD        Abnorml     140000  \n",
       "4     12   2008        WD         Normal     250000  \n",
       "\n",
       "[5 rows x 81 columns]"
      ]
     },
     "execution_count": 19,
     "metadata": {},
     "output_type": "execute_result"
    }
   ],
   "source": [
    "train.head()"
   ]
  },
  {
   "cell_type": "markdown",
   "metadata": {
    "_uuid": "4c08e4754900964af6990f5c59f5f8b8d8f95227"
   },
   "source": [
    "# Data Preprocessing\n",
    "\n",
    "#### Visualization of target variable SalePrice data distribution."
   ]
  },
  {
   "cell_type": "code",
   "execution_count": 20,
   "metadata": {
    "_uuid": "2ea892c4263483c77ce556de1bada66f92b80b84"
   },
   "outputs": [
    {
     "data": {
      "text/plain": [
       "<matplotlib.axes._subplots.AxesSubplot at 0x124b3f66c18>"
      ]
     },
     "execution_count": 20,
     "metadata": {},
     "output_type": "execute_result"
    },
    {
     "data": {
      "image/png": "[encoded data removed]",
      "text/plain": [
       "<Figure size 720x432 with 1 Axes>"
      ]
     },
     "metadata": {
      "needs_background": "light"
     },
     "output_type": "display_data"
    }
   ],
   "source": [
    "plt.figure(figsize=[10,6])\n",
    "sns.distplot(train.SalePrice, fit=norm)"
   ]
  },
  {
   "cell_type": "markdown",
   "metadata": {
    "_uuid": "1e50c3172800915bdb1970436dcc1758b8234c6a"
   },
   "source": [
    "The target variable is right skewed. So we need to transform this variable and make it more normally distributed.\n",
    "\n",
    "In case of positive skewness, log transformation works well."
   ]
  },
  {
   "cell_type": "code",
   "execution_count": 21,
   "metadata": {
    "_uuid": "5726f29810941277b6a3cf07d4ea556b9fc04af2"
   },
   "outputs": [
    {
     "data": {
      "text/plain": [
       "<matplotlib.axes._subplots.AxesSubplot at 0x124b660e780>"
      ]
     },
     "execution_count": 21,
     "metadata": {},
     "output_type": "execute_result"
    },
    {
     "data": {
      "image/png": "[encoded data removed]",
      "text/plain": [
       "<Figure size 720x432 with 1 Axes>"
      ]
     },
     "metadata": {
      "needs_background": "light"
     },
     "output_type": "display_data"
    }
   ],
   "source": [
    "plt.figure(figsize=[10,6])\n",
    "sns.distplot(np.log(train.SalePrice), fit=norm)"
   ]
  },
  {
   "cell_type": "markdown",
   "metadata": {
    "_uuid": "c1d078e5423e7df397907abc49e04e8f86de4318"
   },
   "source": [
    "The data is now normally distributed as we corrected skew."
   ]
  },
  {
   "cell_type": "markdown",
   "metadata": {
    "_uuid": "cba60361ac6780944b72b0c6505fe33b0b8dac8d"
   },
   "source": [
    "#### Let's visualize relationship of features with SalePrice using Seaborn's Heatmap"
   ]
  },
  {
   "cell_type": "code",
   "execution_count": 26,
   "metadata": {
    "_uuid": "bc8e9c9788f5a22d1ada56fc075566a865373004",
    "scrolled": true
   },
   "outputs": [
    {
     "data": {
      "text/plain": [
       "<matplotlib.axes._subplots.AxesSubplot at 0x124b6309588>"
      ]
     },
     "execution_count": 26,
     "metadata": {},
     "output_type": "execute_result"
    },
    {
     "data": {
      "image/png": "[encoded data removed]",
      "text/plain": [
       "<Figure size 864x576 with 2 Axes>"
      ]
     },
     "metadata": {
      "needs_background": "light"
     },
     "output_type": "display_data"
    }
   ],
   "source": [
    "correlation= train.corr()\n",
    "plt.figure(figsize=[12,8])\n",
    "plt.title('Correlation of Numeric Features with Sale Price')\n",
    "sns.heatmap(correlation,cmap=\"YlGnBu\")"
   ]
  },
  {
   "cell_type": "code",
   "execution_count": 27,
   "metadata": {
    "scrolled": true
   },
   "outputs": [
    {
     "data": {
      "text/plain": [
       "SalePrice       1.000000\n",
       "OverallQual     0.790982\n",
       "GrLivArea       0.708624\n",
       "GarageCars      0.640409\n",
       "GarageArea      0.623431\n",
       "TotalBsmtSF     0.613581\n",
       "1stFlrSF        0.605852\n",
       "FullBath        0.560664\n",
       "TotRmsAbvGrd    0.533723\n",
       "YearBuilt       0.522897\n",
       "YearRemodAdd    0.507101\n",
       "GarageYrBlt     0.486362\n",
       "MasVnrArea      0.477493\n",
       "Fireplaces      0.466929\n",
       "BsmtFinSF1      0.386420\n",
       "LotFrontage     0.351799\n",
       "WoodDeckSF      0.324413\n",
       "2ndFlrSF        0.319334\n",
       "OpenPorchSF     0.315856\n",
       "HalfBath        0.284108\n",
       "LotArea         0.263843\n",
       "BsmtFullBath    0.227122\n",
       "BsmtUnfSF       0.214479\n",
       "BedroomAbvGr    0.168213\n",
       "ScreenPorch     0.111447\n",
       "Name: SalePrice, dtype: float64"
      ]
     },
     "execution_count": 27,
     "metadata": {},
     "output_type": "execute_result"
    }
   ],
   "source": [
    "correlation= train.corr()\n",
    "correlation=correlation['SalePrice'].sort_values(ascending=False)\n",
    "pos_correlation=correlation.head(25)\n",
    "pos_correlation"
   ]
  },
  {
   "cell_type": "markdown",
   "metadata": {},
   "source": [
    "#### Visualizing some highly correlated features to get better understanding."
   ]
  },
  {
   "cell_type": "code",
   "execution_count": 9,
   "metadata": {},
   "outputs": [
    {
     "data": {
      "text/plain": [
       "<matplotlib.axes._subplots.AxesSubplot at 0x124b62f8a20>"
      ]
     },
     "execution_count": 9,
     "metadata": {},
     "output_type": "execute_result"
    },
    {
     "data": {
      "image/png": "[encoded data removed]",
      "text/plain": [
       "<Figure size 576x360 with 1 Axes>"
      ]
     },
     "metadata": {
      "needs_background": "light"
     },
     "output_type": "display_data"
    }
   ],
   "source": [
    "plt.figure(figsize=[8,5])\n",
    "sns.regplot(train['OverallQual'], train['SalePrice'])"
   ]
  },
  {
   "cell_type": "code",
   "execution_count": 10,
   "metadata": {},
   "outputs": [
    {
     "data": {
      "text/plain": [
       "<matplotlib.axes._subplots.AxesSubplot at 0x124a6235470>"
      ]
     },
     "execution_count": 10,
     "metadata": {},
     "output_type": "execute_result"
    },
    {
     "data": {
      "image/png": "[encoded data removed]",
      "text/plain": [
       "<Figure size 576x360 with 1 Axes>"
      ]
     },
     "metadata": {
      "needs_background": "light"
     },
     "output_type": "display_data"
    }
   ],
   "source": [
    "plt.figure(figsize=[8,5])\n",
    "sns.regplot(train['GrLivArea'], train['SalePrice'])"
   ]
  },
  {
   "cell_type": "code",
   "execution_count": 11,
   "metadata": {},
   "outputs": [
    {
     "data": {
      "text/plain": [
       "<matplotlib.axes._subplots.AxesSubplot at 0x124b6415cf8>"
      ]
     },
     "execution_count": 11,
     "metadata": {},
     "output_type": "execute_result"
    },
    {
     "data": {
      "image/png": "[encoded data removed]",
      "text/plain": [
       "<Figure size 576x360 with 1 Axes>"
      ]
     },
     "metadata": {
      "needs_background": "light"
     },
     "output_type": "display_data"
    }
   ],
   "source": [
    "plt.figure(figsize=[8,5])\n",
    "sns.regplot(train['GarageArea'], train['SalePrice'])"
   ]
  },
  {
   "cell_type": "code",
   "execution_count": 12,
   "metadata": {},
   "outputs": [
    {
     "data": {
      "text/plain": [
       "<matplotlib.axes._subplots.AxesSubplot at 0x124b61d9898>"
      ]
     },
     "execution_count": 12,
     "metadata": {},
     "output_type": "execute_result"
    },
    {
     "data": {
      "image/png": "[encoded data removed]",
      "text/plain": [
       "<Figure size 576x360 with 1 Axes>"
      ]
     },
     "metadata": {
      "needs_background": "light"
     },
     "output_type": "display_data"
    }
   ],
   "source": [
    "plt.figure(figsize=[8,5])\n",
    "sns.regplot(train['TotalBsmtSF'], train['SalePrice'])"
   ]
  },
  {
   "cell_type": "markdown",
   "metadata": {},
   "source": [
    "## Data Cleaning\n",
    "\n",
    "### Dealing with Outliers"
   ]
  },
  {
   "cell_type": "code",
   "execution_count": 28,
   "metadata": {},
   "outputs": [
    {
     "name": "stdout",
     "output_type": "stream",
     "text": [
      "Before: (1460, 81)\n",
      "After: (1456, 81)\n"
     ]
    }
   ],
   "source": [
    "print(\"Before:\",train.shape)\n",
    "\n",
    "train.drop(train[(train['OverallQual']<5) & (train['SalePrice']>200000)].index, inplace=True)\n",
    "train.drop(train[(train['GrLivArea']>4000) & (train['SalePrice']<300000)].index, inplace=True)\n",
    "train.drop(train[(train['GarageArea']>1200) & (train['SalePrice']<100000)].index, inplace=True)\n",
    "train.drop(train[(train['TotalBsmtSF']>6000) & (train['SalePrice']<200000)].index, inplace=True)\n",
    "train.reset_index(drop=True, inplace=True)\n",
    "\n",
    "print(\"After:\",train.shape)"
   ]
  },
  {
   "cell_type": "markdown",
   "metadata": {
    "_uuid": "26a4844631e0a6b63d0d40491b703659571c0d32"
   },
   "source": [
    "### Let's move to handle missing values"
   ]
  },
  {
   "cell_type": "code",
   "execution_count": 29,
   "metadata": {
    "_uuid": "434e2b745b6e202ba85e6afbfdf4a9a201be16a4"
   },
   "outputs": [],
   "source": [
    "data= pd.concat([train.drop(['SalePrice'], axis=1), test])"
   ]
  },
  {
   "cell_type": "markdown",
   "metadata": {
    "_uuid": "b13d0ac8dcd8f471a5a37c38993b1f4da3448826"
   },
   "source": [
    "#### Get percentage of these missing values in features"
   ]
  },
  {
   "cell_type": "code",
   "execution_count": 30,
   "metadata": {
    "_uuid": "6737e5d7b16b7b958d43e72827ee904698974bf6",
    "scrolled": true
   },
   "outputs": [
    {
     "data": {
      "text/html": [
       "<div>\n",
       "<style scoped>\n",
       "    .dataframe tbody tr th:only-of-type {\n",
       "        vertical-align: middle;\n",
       "    }\n",
       "\n",
       "    .dataframe tbody tr th {\n",
       "        vertical-align: top;\n",
       "    }\n",
       "\n",
       "    .dataframe thead th {\n",
       "        text-align: right;\n",
       "    }\n",
       "</style>\n",
       "<table border=\"1\" class=\"dataframe\">\n",
       "  <thead>\n",
       "    <tr style=\"text-align: right;\">\n",
       "      <th></th>\n",
       "      <th>Total missing count</th>\n",
       "      <th>Percentage</th>\n",
       "    </tr>\n",
       "  </thead>\n",
       "  <tbody>\n",
       "    <tr>\n",
       "      <th>PoolQC</th>\n",
       "      <td>2906</td>\n",
       "      <td>99.691252</td>\n",
       "    </tr>\n",
       "    <tr>\n",
       "      <th>MiscFeature</th>\n",
       "      <td>2811</td>\n",
       "      <td>96.432247</td>\n",
       "    </tr>\n",
       "    <tr>\n",
       "      <th>Alley</th>\n",
       "      <td>2717</td>\n",
       "      <td>93.207547</td>\n",
       "    </tr>\n",
       "    <tr>\n",
       "      <th>Fence</th>\n",
       "      <td>2344</td>\n",
       "      <td>80.411664</td>\n",
       "    </tr>\n",
       "    <tr>\n",
       "      <th>FireplaceQu</th>\n",
       "      <td>1419</td>\n",
       "      <td>48.679245</td>\n",
       "    </tr>\n",
       "    <tr>\n",
       "      <th>LotFrontage</th>\n",
       "      <td>485</td>\n",
       "      <td>16.638079</td>\n",
       "    </tr>\n",
       "    <tr>\n",
       "      <th>GarageCond</th>\n",
       "      <td>159</td>\n",
       "      <td>5.454545</td>\n",
       "    </tr>\n",
       "    <tr>\n",
       "      <th>GarageQual</th>\n",
       "      <td>159</td>\n",
       "      <td>5.454545</td>\n",
       "    </tr>\n",
       "    <tr>\n",
       "      <th>GarageYrBlt</th>\n",
       "      <td>159</td>\n",
       "      <td>5.454545</td>\n",
       "    </tr>\n",
       "    <tr>\n",
       "      <th>GarageFinish</th>\n",
       "      <td>159</td>\n",
       "      <td>5.454545</td>\n",
       "    </tr>\n",
       "    <tr>\n",
       "      <th>GarageType</th>\n",
       "      <td>157</td>\n",
       "      <td>5.385935</td>\n",
       "    </tr>\n",
       "    <tr>\n",
       "      <th>BsmtCond</th>\n",
       "      <td>82</td>\n",
       "      <td>2.813036</td>\n",
       "    </tr>\n",
       "    <tr>\n",
       "      <th>BsmtExposure</th>\n",
       "      <td>82</td>\n",
       "      <td>2.813036</td>\n",
       "    </tr>\n",
       "    <tr>\n",
       "      <th>BsmtQual</th>\n",
       "      <td>81</td>\n",
       "      <td>2.778731</td>\n",
       "    </tr>\n",
       "    <tr>\n",
       "      <th>BsmtFinType2</th>\n",
       "      <td>80</td>\n",
       "      <td>2.744425</td>\n",
       "    </tr>\n",
       "    <tr>\n",
       "      <th>BsmtFinType1</th>\n",
       "      <td>79</td>\n",
       "      <td>2.710120</td>\n",
       "    </tr>\n",
       "    <tr>\n",
       "      <th>MasVnrType</th>\n",
       "      <td>24</td>\n",
       "      <td>0.823328</td>\n",
       "    </tr>\n",
       "    <tr>\n",
       "      <th>MasVnrArea</th>\n",
       "      <td>23</td>\n",
       "      <td>0.789022</td>\n",
       "    </tr>\n",
       "    <tr>\n",
       "      <th>MSZoning</th>\n",
       "      <td>4</td>\n",
       "      <td>0.137221</td>\n",
       "    </tr>\n",
       "    <tr>\n",
       "      <th>BsmtHalfBath</th>\n",
       "      <td>2</td>\n",
       "      <td>0.068611</td>\n",
       "    </tr>\n",
       "    <tr>\n",
       "      <th>Utilities</th>\n",
       "      <td>2</td>\n",
       "      <td>0.068611</td>\n",
       "    </tr>\n",
       "    <tr>\n",
       "      <th>Functional</th>\n",
       "      <td>2</td>\n",
       "      <td>0.068611</td>\n",
       "    </tr>\n",
       "    <tr>\n",
       "      <th>BsmtFullBath</th>\n",
       "      <td>2</td>\n",
       "      <td>0.068611</td>\n",
       "    </tr>\n",
       "    <tr>\n",
       "      <th>BsmtFinSF1</th>\n",
       "      <td>1</td>\n",
       "      <td>0.034305</td>\n",
       "    </tr>\n",
       "    <tr>\n",
       "      <th>Exterior1st</th>\n",
       "      <td>1</td>\n",
       "      <td>0.034305</td>\n",
       "    </tr>\n",
       "    <tr>\n",
       "      <th>Exterior2nd</th>\n",
       "      <td>1</td>\n",
       "      <td>0.034305</td>\n",
       "    </tr>\n",
       "    <tr>\n",
       "      <th>BsmtFinSF2</th>\n",
       "      <td>1</td>\n",
       "      <td>0.034305</td>\n",
       "    </tr>\n",
       "    <tr>\n",
       "      <th>BsmtUnfSF</th>\n",
       "      <td>1</td>\n",
       "      <td>0.034305</td>\n",
       "    </tr>\n",
       "    <tr>\n",
       "      <th>TotalBsmtSF</th>\n",
       "      <td>1</td>\n",
       "      <td>0.034305</td>\n",
       "    </tr>\n",
       "    <tr>\n",
       "      <th>SaleType</th>\n",
       "      <td>1</td>\n",
       "      <td>0.034305</td>\n",
       "    </tr>\n",
       "  </tbody>\n",
       "</table>\n",
       "</div>"
      ],
      "text/plain": [
       "              Total missing count  Percentage \n",
       "PoolQC                       2906    99.691252\n",
       "MiscFeature                  2811    96.432247\n",
       "Alley                        2717    93.207547\n",
       "Fence                        2344    80.411664\n",
       "FireplaceQu                  1419    48.679245\n",
       "LotFrontage                   485    16.638079\n",
       "GarageCond                    159     5.454545\n",
       "GarageQual                    159     5.454545\n",
       "GarageYrBlt                   159     5.454545\n",
       "GarageFinish                  159     5.454545\n",
       "GarageType                    157     5.385935\n",
       "BsmtCond                       82     2.813036\n",
       "BsmtExposure                   82     2.813036\n",
       "BsmtQual                       81     2.778731\n",
       "BsmtFinType2                   80     2.744425\n",
       "BsmtFinType1                   79     2.710120\n",
       "MasVnrType                     24     0.823328\n",
       "MasVnrArea                     23     0.789022\n",
       "MSZoning                        4     0.137221\n",
       "BsmtHalfBath                    2     0.068611\n",
       "Utilities                       2     0.068611\n",
       "Functional                      2     0.068611\n",
       "BsmtFullBath                    2     0.068611\n",
       "BsmtFinSF1                      1     0.034305\n",
       "Exterior1st                     1     0.034305\n",
       "Exterior2nd                     1     0.034305\n",
       "BsmtFinSF2                      1     0.034305\n",
       "BsmtUnfSF                       1     0.034305\n",
       "TotalBsmtSF                     1     0.034305\n",
       "SaleType                        1     0.034305"
      ]
     },
     "execution_count": 30,
     "metadata": {},
     "output_type": "execute_result"
    }
   ],
   "source": [
    "total=data.isnull().sum().sort_values(ascending=False)\n",
    "percent=((data.isnull().sum()/data.isnull().count())*100).sort_values(ascending=False)\n",
    "missing= pd.concat([total,percent], axis=1, join='outer', keys=['Total missing count', 'Percentage '])\n",
    "missing.head(30)"
   ]
  },
  {
   "cell_type": "markdown",
   "metadata": {
    "_uuid": "27c5f18a6a019f64c425890f6a9bc3aeeef45ec6"
   },
   "source": [
    "#### Updating Garage features\n"
   ]
  },
  {
   "cell_type": "markdown",
   "metadata": {
    "_uuid": "78fbf11a86947b4a36291eb6d18a4bd113949722"
   },
   "source": [
    "Fill all missing values of Garage features with 'None' as they have no Garage."
   ]
  },
  {
   "cell_type": "code",
   "execution_count": 33,
   "metadata": {
    "_uuid": "d352c03a4c5a2d57ccb1039898a2e795c9ec3d36"
   },
   "outputs": [],
   "source": [
    "train['GarageQual'].fillna('None', inplace=True)\n",
    "test['GarageQual'].fillna('None', inplace=True)\n",
    "train['GarageFinish'].fillna('None', inplace=True)\n",
    "test['GarageFinish'].fillna('None', inplace=True)\n",
    "train['GarageYrBlt'].fillna('None', inplace=True)\n",
    "test['GarageYrBlt'].fillna('None', inplace=True)\n",
    "train['GarageType'].fillna('None', inplace=True)\n",
    "test['GarageType'].fillna('None', inplace=True)\n",
    "train['GarageCond'].fillna('None', inplace=True)\n",
    "test['GarageCond'].fillna('None', inplace=True)\n",
    "test.loc[test['Id']==2577, 'GarageType']='None'\n",
    "\n",
    "test['GarageCars'].fillna(0, inplace=True)\n",
    "test['GarageArea'].fillna(0, inplace=True)"
   ]
  },
  {
   "cell_type": "markdown",
   "metadata": {
    "_cell_guid": "79c7e3d0-c299-4dcb-8224-4455121ee9b0",
    "_uuid": "d629ff2d2480ee46fbb7e2d37f6b5fab8052498a",
    "collapsed": true
   },
   "source": [
    "#### Updating Basement features\n",
    "\n",
    "Let's first have a look at BsmtCond. There are some rows having Basement but no Basement condition. Let's dig out more."
   ]
  },
  {
   "cell_type": "code",
   "execution_count": 24,
   "metadata": {
    "_uuid": "1abf3a5f04b9532c2e33dfd1fc95b3d489aa4819"
   },
   "outputs": [
    {
     "data": {
      "text/html": [
       "<div>\n",
       "<style scoped>\n",
       "    .dataframe tbody tr th:only-of-type {\n",
       "        vertical-align: middle;\n",
       "    }\n",
       "\n",
       "    .dataframe tbody tr th {\n",
       "        vertical-align: top;\n",
       "    }\n",
       "\n",
       "    .dataframe thead th {\n",
       "        text-align: right;\n",
       "    }\n",
       "</style>\n",
       "<table border=\"1\" class=\"dataframe\">\n",
       "  <thead>\n",
       "    <tr style=\"text-align: right;\">\n",
       "      <th></th>\n",
       "      <th>Id</th>\n",
       "      <th>TotalBsmtSF</th>\n",
       "      <th>BsmtCond</th>\n",
       "      <th>BsmtQual</th>\n",
       "      <th>BsmtExposure</th>\n",
       "      <th>BsmtFinType1</th>\n",
       "      <th>BsmtFinSF1</th>\n",
       "      <th>BsmtUnfSF</th>\n",
       "    </tr>\n",
       "  </thead>\n",
       "  <tbody>\n",
       "    <tr>\n",
       "      <th>580</th>\n",
       "      <td>2041</td>\n",
       "      <td>1426.0</td>\n",
       "      <td>NaN</td>\n",
       "      <td>Gd</td>\n",
       "      <td>Mn</td>\n",
       "      <td>GLQ</td>\n",
       "      <td>1044.0</td>\n",
       "      <td>0.0</td>\n",
       "    </tr>\n",
       "    <tr>\n",
       "      <th>660</th>\n",
       "      <td>2121</td>\n",
       "      <td>NaN</td>\n",
       "      <td>NaN</td>\n",
       "      <td>NaN</td>\n",
       "      <td>NaN</td>\n",
       "      <td>NaN</td>\n",
       "      <td>NaN</td>\n",
       "      <td>NaN</td>\n",
       "    </tr>\n",
       "    <tr>\n",
       "      <th>725</th>\n",
       "      <td>2186</td>\n",
       "      <td>1127.0</td>\n",
       "      <td>NaN</td>\n",
       "      <td>TA</td>\n",
       "      <td>No</td>\n",
       "      <td>BLQ</td>\n",
       "      <td>1033.0</td>\n",
       "      <td>94.0</td>\n",
       "    </tr>\n",
       "    <tr>\n",
       "      <th>1064</th>\n",
       "      <td>2525</td>\n",
       "      <td>995.0</td>\n",
       "      <td>NaN</td>\n",
       "      <td>TA</td>\n",
       "      <td>Av</td>\n",
       "      <td>ALQ</td>\n",
       "      <td>755.0</td>\n",
       "      <td>240.0</td>\n",
       "    </tr>\n",
       "  </tbody>\n",
       "</table>\n",
       "</div>"
      ],
      "text/plain": [
       "        Id  TotalBsmtSF BsmtCond BsmtQual BsmtExposure BsmtFinType1  \\\n",
       "580   2041       1426.0      NaN       Gd           Mn          GLQ   \n",
       "660   2121          NaN      NaN      NaN          NaN          NaN   \n",
       "725   2186       1127.0      NaN       TA           No          BLQ   \n",
       "1064  2525        995.0      NaN       TA           Av          ALQ   \n",
       "\n",
       "      BsmtFinSF1  BsmtUnfSF  \n",
       "580       1044.0        0.0  \n",
       "660          NaN        NaN  \n",
       "725       1033.0       94.0  \n",
       "1064       755.0      240.0  "
      ]
     },
     "execution_count": 24,
     "metadata": {},
     "output_type": "execute_result"
    }
   ],
   "source": [
    "data[(data['TotalBsmtSF']!=0) & (data['BsmtCond'].isnull()==True)][['Id','TotalBsmtSF','BsmtCond','BsmtQual','BsmtExposure',\n",
    "                                                                    'BsmtFinType1','BsmtFinSF1','BsmtUnfSF']]"
   ]
  },
  {
   "cell_type": "markdown",
   "metadata": {
    "_uuid": "eda51947a6582205240a9e53cd756b1e46973629"
   },
   "source": [
    "Fill these BsmtCond null values with BsmtQual and others with None as they have no Basement at all."
   ]
  },
  {
   "cell_type": "code",
   "execution_count": 34,
   "metadata": {
    "_uuid": "e53d7fdd429de4abe309b4f16bb67feaaeb87c3e"
   },
   "outputs": [],
   "source": [
    "test.loc[test['Id']==2041, 'BsmtCond']='Gd'\n",
    "test.loc[test['Id']==2186, 'BsmtCond']='TA'\n",
    "test.loc[test['Id']==2525, 'BsmtCond']='TA'\n",
    "train['BsmtCond'].fillna('None', inplace=True)\n",
    "test['BsmtCond'].fillna('None', inplace=True)"
   ]
  },
  {
   "cell_type": "code",
   "execution_count": 26,
   "metadata": {
    "_uuid": "608ef7e1f692667d61ffd515cac60dc2a9f4c57e"
   },
   "outputs": [
    {
     "data": {
      "text/html": [
       "<div>\n",
       "<style scoped>\n",
       "    .dataframe tbody tr th:only-of-type {\n",
       "        vertical-align: middle;\n",
       "    }\n",
       "\n",
       "    .dataframe tbody tr th {\n",
       "        vertical-align: top;\n",
       "    }\n",
       "\n",
       "    .dataframe thead th {\n",
       "        text-align: right;\n",
       "    }\n",
       "</style>\n",
       "<table border=\"1\" class=\"dataframe\">\n",
       "  <thead>\n",
       "    <tr style=\"text-align: right;\">\n",
       "      <th></th>\n",
       "      <th>Id</th>\n",
       "      <th>TotalBsmtSF</th>\n",
       "      <th>BsmtCond</th>\n",
       "      <th>BsmtQual</th>\n",
       "      <th>BsmtExposure</th>\n",
       "      <th>BsmtFinType1</th>\n",
       "      <th>BsmtFinSF1</th>\n",
       "      <th>BsmtUnfSF</th>\n",
       "    </tr>\n",
       "  </thead>\n",
       "  <tbody>\n",
       "    <tr>\n",
       "      <th>948</th>\n",
       "      <td>949</td>\n",
       "      <td>936.0</td>\n",
       "      <td>TA</td>\n",
       "      <td>Gd</td>\n",
       "      <td>NaN</td>\n",
       "      <td>Unf</td>\n",
       "      <td>0.0</td>\n",
       "      <td>936.0</td>\n",
       "    </tr>\n",
       "    <tr>\n",
       "      <th>27</th>\n",
       "      <td>1488</td>\n",
       "      <td>1595.0</td>\n",
       "      <td>TA</td>\n",
       "      <td>Gd</td>\n",
       "      <td>NaN</td>\n",
       "      <td>Unf</td>\n",
       "      <td>0.0</td>\n",
       "      <td>1595.0</td>\n",
       "    </tr>\n",
       "    <tr>\n",
       "      <th>660</th>\n",
       "      <td>2121</td>\n",
       "      <td>NaN</td>\n",
       "      <td>NaN</td>\n",
       "      <td>NaN</td>\n",
       "      <td>NaN</td>\n",
       "      <td>NaN</td>\n",
       "      <td>NaN</td>\n",
       "      <td>NaN</td>\n",
       "    </tr>\n",
       "    <tr>\n",
       "      <th>888</th>\n",
       "      <td>2349</td>\n",
       "      <td>725.0</td>\n",
       "      <td>TA</td>\n",
       "      <td>Gd</td>\n",
       "      <td>NaN</td>\n",
       "      <td>Unf</td>\n",
       "      <td>0.0</td>\n",
       "      <td>725.0</td>\n",
       "    </tr>\n",
       "  </tbody>\n",
       "</table>\n",
       "</div>"
      ],
      "text/plain": [
       "       Id  TotalBsmtSF BsmtCond BsmtQual BsmtExposure BsmtFinType1  \\\n",
       "948   949        936.0       TA       Gd          NaN          Unf   \n",
       "27   1488       1595.0       TA       Gd          NaN          Unf   \n",
       "660  2121          NaN      NaN      NaN          NaN          NaN   \n",
       "888  2349        725.0       TA       Gd          NaN          Unf   \n",
       "\n",
       "     BsmtFinSF1  BsmtUnfSF  \n",
       "948         0.0      936.0  \n",
       "27          0.0     1595.0  \n",
       "660         NaN        NaN  \n",
       "888         0.0      725.0  "
      ]
     },
     "execution_count": 26,
     "metadata": {},
     "output_type": "execute_result"
    }
   ],
   "source": [
    "data[(data['TotalBsmtSF']!=0) & (data['BsmtExposure'].isnull()==True)][['Id','TotalBsmtSF','BsmtCond','BsmtQual','BsmtExposure',\n",
    "                                                                    'BsmtFinType1','BsmtFinSF1','BsmtUnfSF']]"
   ]
  },
  {
   "cell_type": "markdown",
   "metadata": {
    "_uuid": "e632bb16a22261de488a525a221f0bb2fd026a13"
   },
   "source": [
    "Fill these BsmtExposure null values with values of BsmtQual and other with None."
   ]
  },
  {
   "cell_type": "code",
   "execution_count": 35,
   "metadata": {
    "_uuid": "6d94f2675a53082644324ae7ad8835e75660a7be"
   },
   "outputs": [],
   "source": [
    "train.loc[train['Id']==949, 'BsmtExposure']='Gd'\n",
    "test.loc[test['Id']==1488, 'BsmtExposure']='Gd'\n",
    "test.loc[test['Id']==2349, 'BsmtExposure']='Gd'\n",
    "train['BsmtExposure'].fillna('None', inplace=True)\n",
    "test['BsmtExposure'].fillna('None', inplace=True)"
   ]
  },
  {
   "cell_type": "code",
   "execution_count": 28,
   "metadata": {
    "_uuid": "ba143755e7a4f495738cdcdfdf1ad5715f040f7a"
   },
   "outputs": [
    {
     "data": {
      "text/html": [
       "<div>\n",
       "<style scoped>\n",
       "    .dataframe tbody tr th:only-of-type {\n",
       "        vertical-align: middle;\n",
       "    }\n",
       "\n",
       "    .dataframe tbody tr th {\n",
       "        vertical-align: top;\n",
       "    }\n",
       "\n",
       "    .dataframe thead th {\n",
       "        text-align: right;\n",
       "    }\n",
       "</style>\n",
       "<table border=\"1\" class=\"dataframe\">\n",
       "  <thead>\n",
       "    <tr style=\"text-align: right;\">\n",
       "      <th></th>\n",
       "      <th>Id</th>\n",
       "      <th>TotalBsmtSF</th>\n",
       "      <th>BsmtQual</th>\n",
       "      <th>BsmtCond</th>\n",
       "      <th>BsmtExposure</th>\n",
       "      <th>BsmtFinType1</th>\n",
       "      <th>BsmtFinSF1</th>\n",
       "      <th>BsmtUnfSF</th>\n",
       "    </tr>\n",
       "  </thead>\n",
       "  <tbody>\n",
       "    <tr>\n",
       "      <th>660</th>\n",
       "      <td>2121</td>\n",
       "      <td>NaN</td>\n",
       "      <td>NaN</td>\n",
       "      <td>NaN</td>\n",
       "      <td>NaN</td>\n",
       "      <td>NaN</td>\n",
       "      <td>NaN</td>\n",
       "      <td>NaN</td>\n",
       "    </tr>\n",
       "    <tr>\n",
       "      <th>757</th>\n",
       "      <td>2218</td>\n",
       "      <td>173.0</td>\n",
       "      <td>NaN</td>\n",
       "      <td>Fa</td>\n",
       "      <td>No</td>\n",
       "      <td>Unf</td>\n",
       "      <td>0.0</td>\n",
       "      <td>173.0</td>\n",
       "    </tr>\n",
       "    <tr>\n",
       "      <th>758</th>\n",
       "      <td>2219</td>\n",
       "      <td>356.0</td>\n",
       "      <td>NaN</td>\n",
       "      <td>TA</td>\n",
       "      <td>No</td>\n",
       "      <td>Unf</td>\n",
       "      <td>0.0</td>\n",
       "      <td>356.0</td>\n",
       "    </tr>\n",
       "  </tbody>\n",
       "</table>\n",
       "</div>"
      ],
      "text/plain": [
       "       Id  TotalBsmtSF BsmtQual BsmtCond BsmtExposure BsmtFinType1  \\\n",
       "660  2121          NaN      NaN      NaN          NaN          NaN   \n",
       "757  2218        173.0      NaN       Fa           No          Unf   \n",
       "758  2219        356.0      NaN       TA           No          Unf   \n",
       "\n",
       "     BsmtFinSF1  BsmtUnfSF  \n",
       "660         NaN        NaN  \n",
       "757         0.0      173.0  \n",
       "758         0.0      356.0  "
      ]
     },
     "execution_count": 28,
     "metadata": {},
     "output_type": "execute_result"
    }
   ],
   "source": [
    "data[(data['TotalBsmtSF']!=0) & (data['BsmtQual'].isnull()==True)][['Id','TotalBsmtSF','BsmtQual','BsmtCond','BsmtExposure',\n",
    "                                                                    'BsmtFinType1','BsmtFinSF1','BsmtUnfSF']]"
   ]
  },
  {
   "cell_type": "markdown",
   "metadata": {
    "_uuid": "438ce333b1e7e6884368a0ee9f5b3b82b914708c"
   },
   "source": [
    "Fill these BsmtQual null values with values of BsmtCond and others with None."
   ]
  },
  {
   "cell_type": "code",
   "execution_count": 36,
   "metadata": {
    "_uuid": "cefbca70eeadcbbb76789af3364cf21890c4ac31"
   },
   "outputs": [],
   "source": [
    "test.loc[test['Id']==2218, 'BsmtQual']='Fa'\n",
    "test.loc[test['Id']==2219, 'BsmtQual']='TA'\n",
    "train['BsmtQual'].fillna('None', inplace=True)\n",
    "test['BsmtQual'].fillna('None', inplace=True)"
   ]
  },
  {
   "cell_type": "code",
   "execution_count": 30,
   "metadata": {
    "_uuid": "3939969aede0c2da0a9fc9c8f5c83d1f70ec1b2a"
   },
   "outputs": [
    {
     "data": {
      "text/html": [
       "<div>\n",
       "<style scoped>\n",
       "    .dataframe tbody tr th:only-of-type {\n",
       "        vertical-align: middle;\n",
       "    }\n",
       "\n",
       "    .dataframe tbody tr th {\n",
       "        vertical-align: top;\n",
       "    }\n",
       "\n",
       "    .dataframe thead th {\n",
       "        text-align: right;\n",
       "    }\n",
       "</style>\n",
       "<table border=\"1\" class=\"dataframe\">\n",
       "  <thead>\n",
       "    <tr style=\"text-align: right;\">\n",
       "      <th></th>\n",
       "      <th>Id</th>\n",
       "      <th>TotalBsmtSF</th>\n",
       "      <th>BsmtQual</th>\n",
       "      <th>BsmtCond</th>\n",
       "      <th>BsmtExposure</th>\n",
       "      <th>BsmtFinType1</th>\n",
       "      <th>BsmtFinSF1</th>\n",
       "      <th>BsmtUnfSF</th>\n",
       "    </tr>\n",
       "  </thead>\n",
       "  <tbody>\n",
       "    <tr>\n",
       "      <th>660</th>\n",
       "      <td>2121</td>\n",
       "      <td>NaN</td>\n",
       "      <td>NaN</td>\n",
       "      <td>NaN</td>\n",
       "      <td>NaN</td>\n",
       "      <td>NaN</td>\n",
       "      <td>NaN</td>\n",
       "      <td>NaN</td>\n",
       "    </tr>\n",
       "  </tbody>\n",
       "</table>\n",
       "</div>"
      ],
      "text/plain": [
       "       Id  TotalBsmtSF BsmtQual BsmtCond BsmtExposure BsmtFinType1  \\\n",
       "660  2121          NaN      NaN      NaN          NaN          NaN   \n",
       "\n",
       "     BsmtFinSF1  BsmtUnfSF  \n",
       "660         NaN        NaN  "
      ]
     },
     "execution_count": 30,
     "metadata": {},
     "output_type": "execute_result"
    }
   ],
   "source": [
    "data[(data['TotalBsmtSF']!=0) & (data['BsmtFinType1'].isnull()==True)][['Id','TotalBsmtSF','BsmtQual','BsmtCond','BsmtExposure',\n",
    "                                                                        'BsmtFinType1','BsmtFinSF1','BsmtUnfSF']]"
   ]
  },
  {
   "cell_type": "code",
   "execution_count": 31,
   "metadata": {
    "_uuid": "653da8f5343349591dc48a8cd50db47d80bb4346"
   },
   "outputs": [
    {
     "data": {
      "text/html": [
       "<div>\n",
       "<style scoped>\n",
       "    .dataframe tbody tr th:only-of-type {\n",
       "        vertical-align: middle;\n",
       "    }\n",
       "\n",
       "    .dataframe tbody tr th {\n",
       "        vertical-align: top;\n",
       "    }\n",
       "\n",
       "    .dataframe thead th {\n",
       "        text-align: right;\n",
       "    }\n",
       "</style>\n",
       "<table border=\"1\" class=\"dataframe\">\n",
       "  <thead>\n",
       "    <tr style=\"text-align: right;\">\n",
       "      <th></th>\n",
       "      <th>Id</th>\n",
       "      <th>TotalBsmtSF</th>\n",
       "      <th>BsmtQual</th>\n",
       "      <th>BsmtCond</th>\n",
       "      <th>BsmtExposure</th>\n",
       "      <th>BsmtFullBath</th>\n",
       "    </tr>\n",
       "  </thead>\n",
       "  <tbody>\n",
       "    <tr>\n",
       "      <th>660</th>\n",
       "      <td>2121</td>\n",
       "      <td>NaN</td>\n",
       "      <td>NaN</td>\n",
       "      <td>NaN</td>\n",
       "      <td>NaN</td>\n",
       "      <td>NaN</td>\n",
       "    </tr>\n",
       "  </tbody>\n",
       "</table>\n",
       "</div>"
      ],
      "text/plain": [
       "       Id  TotalBsmtSF BsmtQual BsmtCond BsmtExposure  BsmtFullBath\n",
       "660  2121          NaN      NaN      NaN          NaN           NaN"
      ]
     },
     "execution_count": 31,
     "metadata": {},
     "output_type": "execute_result"
    }
   ],
   "source": [
    "data[(data['TotalBsmtSF']!=0) & (data['BsmtFullBath'].isnull()==True)][['Id','TotalBsmtSF','BsmtQual','BsmtCond',\n",
    "                                                                        'BsmtExposure','BsmtFullBath']]"
   ]
  },
  {
   "cell_type": "markdown",
   "metadata": {
    "_uuid": "e467d118f54e086537480748dfb29f06c545803f"
   },
   "source": [
    "Fill all other Basement features missing values with None or Zero."
   ]
  },
  {
   "cell_type": "code",
   "execution_count": 37,
   "metadata": {
    "_uuid": "418bd378cc936b03812e5f2e28124629e565d3c7"
   },
   "outputs": [],
   "source": [
    "train['BsmtFinType1'].fillna('None', inplace=True)\n",
    "test['BsmtFinType1'].fillna('None', inplace=True)\n",
    "test['BsmtFinSF1'].fillna(0, inplace=True)\n",
    "train['BsmtFinType2'].fillna('None', inplace=True)\n",
    "test['BsmtFinType2'].fillna('None', inplace=True)\n",
    "test['BsmtUnfSF'].fillna(0, inplace=True)\n",
    "test['TotalBsmtSF'].fillna(0, inplace=True)\n",
    "\n",
    "test['BsmtFullBath'].fillna(0, inplace=True)\n",
    "test['BsmtHalfBath'].fillna(0, inplace=True)\n",
    "\n",
    "test['BsmtFinSF1'].fillna(0, inplace=True)\n",
    "test['BsmtFinSF2'].fillna(0, inplace=True)"
   ]
  },
  {
   "cell_type": "markdown",
   "metadata": {
    "_uuid": "541c1beb372cc4eccb763e6d35aac5dec0980990"
   },
   "source": [
    "#### Updating FireplaceQu, LotFrontage, MasVnrType and MasVnrArea, PoolQC, MiscFeature, Alley, Fence, Electrical, Functional, SaleType, Exterior1st, KitchenQual, Exterior2nd"
   ]
  },
  {
   "cell_type": "code",
   "execution_count": 39,
   "metadata": {
    "_uuid": "e4f3d78f79b0502d47fba5072f664d0e65018b66"
   },
   "outputs": [],
   "source": [
    "train['FireplaceQu'].fillna('None', inplace=True)\n",
    "test['FireplaceQu'].fillna('None', inplace=True)\n",
    "\n",
    "train.loc[train['LotFrontage'].isnull()==True, 'LotFrontage']= train['LotFrontage'].mean()\n",
    "test.loc[test['LotFrontage'].isnull()==True, 'LotFrontage']= test['LotFrontage'].mean()\n",
    "\n",
    "train['MasVnrType'].fillna('None', inplace=True)\n",
    "test['MasVnrType'].fillna('None', inplace=True)\n",
    "\n",
    "train['MasVnrArea'].fillna(0, inplace=True)\n",
    "test['MasVnrArea'].fillna(0, inplace=True)\n",
    "\n",
    "train['PoolQC'].fillna('None', inplace=True)\n",
    "test['PoolQC'].fillna('None', inplace=True)\n",
    "\n",
    "train['MiscFeature'].fillna('None', inplace=True)\n",
    "test['MiscFeature'].fillna('None', inplace=True)\n",
    "\n",
    "train['Alley'].fillna('None', inplace=True)\n",
    "test['Alley'].fillna('None', inplace=True)\n",
    "\n",
    "train['Fence'].fillna('None', inplace=True)\n",
    "test['Fence'].fillna('None', inplace=True)\n",
    "\n",
    "train['MSZoning'].fillna('RL', inplace=True)\n",
    "test['MSZoning'].fillna('RL', inplace=True)\n",
    "\n",
    "train['Electrical'].fillna('SBrkr', inplace=True)\n",
    "test['Functional'].fillna('Typ', inplace=True)\n",
    "test['SaleType'].fillna('WD', inplace=True)\n",
    "test['Exterior1st'].fillna('VinylSd', inplace=True)\n",
    "test['KitchenQual'].fillna('TA', inplace=True)\n",
    "test['Exterior2nd'].fillna('VinylSd', inplace=True)"
   ]
  },
  {
   "cell_type": "code",
   "execution_count": 40,
   "metadata": {},
   "outputs": [],
   "source": [
    "train.drop('Utilities', axis=1, inplace=True)\n",
    "test.drop('Utilities', axis=1, inplace=True)"
   ]
  },
  {
   "cell_type": "markdown",
   "metadata": {
    "_uuid": "c25c0d29233f957e54c6d6750ceda97ddf421034"
   },
   "source": [
    "#### Check again if we have any feature left with missing vale."
   ]
  },
  {
   "cell_type": "code",
   "execution_count": 42,
   "metadata": {
    "_uuid": "405f64bb9b02079ef9af3c4a26be5941ce3867b5"
   },
   "outputs": [
    {
     "name": "stdout",
     "output_type": "stream",
     "text": [
      "Train dataset:\n",
      " SalePrice        0\n",
      "SaleCondition    0\n",
      "RoofMatl         0\n",
      "Exterior1st      0\n",
      "Exterior2nd      0\n",
      "dtype: int64\n",
      "\n",
      "\n",
      "Test dataset:\n",
      " SaleCondition    0\n",
      "Foundation       0\n",
      "RoofMatl         0\n",
      "Exterior1st      0\n",
      "Exterior2nd      0\n",
      "dtype: int64\n"
     ]
    }
   ],
   "source": [
    "print(\"Train dataset:\\n\",train.isnull().sum().sort_values(ascending=False).head(5))\n",
    "print(\"\\n\\nTest dataset:\\n\",test.isnull().sum().sort_values(ascending=False).head(5))"
   ]
  },
  {
   "cell_type": "markdown",
   "metadata": {
    "_uuid": "3c4327f5af53c68181e497b6976079e83bb2bf66"
   },
   "source": [
    "Data is cleaned now!"
   ]
  },
  {
   "cell_type": "markdown",
   "metadata": {},
   "source": [
    "## Feature Engineering and Transformation"
   ]
  },
  {
   "cell_type": "code",
   "execution_count": 43,
   "metadata": {},
   "outputs": [],
   "source": [
    "train['renovated']= 1\n",
    "train.loc[(train['YearBuilt']!=train['YearRemodAdd']),'renovated' ]=0\n",
    "test['renovated']= 1\n",
    "test.loc[(test['YearBuilt']!=test['YearRemodAdd']),'renovated' ]=0\n",
    "\n",
    "train['Total_porch']= (train['OpenPorchSF'])+train['ScreenPorch']+train['3SsnPorch']\n",
    "train['BsmtFinSF_total']= (train['BsmtFinSF1']**2)+train['BsmtFinSF2']\n",
    "train['Bath']= (train['FullBath']**2)+ train['HalfBath']\n",
    "train['BsmtBath']= (train['BsmtFullBath'])+train['BsmtHalfBath']\n",
    "train['TotalSF'] = train['TotalBsmtSF'] + train['1stFlrSF'] + train['2ndFlrSF']\n",
    "train['Total_garage']= (train['GarageCars']**5)+ train['GarageArea']\n",
    "\n",
    "\n",
    "test['Total_porch']= (test['OpenPorchSF'])+test['ScreenPorch']+test['3SsnPorch']\n",
    "test['BsmtFinSF_total']= (test['BsmtFinSF1']**2)+test['BsmtFinSF2']\n",
    "test['Bath']= (test['FullBath']**2)+ test['HalfBath']\n",
    "test['BsmtBath']= (test['BsmtFullBath'])+test['BsmtHalfBath']\n",
    "test['TotalSF'] = test['TotalBsmtSF'] + test['1stFlrSF'] + test['2ndFlrSF']\n",
    "test['Total_garage']= (test['GarageCars']**5)+ test['GarageArea']"
   ]
  },
  {
   "cell_type": "code",
   "execution_count": 44,
   "metadata": {
    "_uuid": "a2f4335994a1fbfe87e2cba3d14dab410d9efea3"
   },
   "outputs": [
    {
     "data": {
      "text/plain": [
       "((1456, 87), (1459, 86))"
      ]
     },
     "execution_count": 44,
     "metadata": {},
     "output_type": "execute_result"
    }
   ],
   "source": [
    "train.shape, test.shape"
   ]
  },
  {
   "cell_type": "markdown",
   "metadata": {
    "_uuid": "223f4adce5768c757c5ee80a9e6ac178eea0ac89"
   },
   "source": [
    "#### Apply log tranformation to target variable and Transform categorical features values into dummies."
   ]
  },
  {
   "cell_type": "code",
   "execution_count": 45,
   "metadata": {
    "_uuid": "0970700d87fccae470e2b64d4e38348608aa9394"
   },
   "outputs": [
    {
     "data": {
      "text/plain": [
       "((1456, 409), (1459, 409))"
      ]
     },
     "execution_count": 45,
     "metadata": {},
     "output_type": "execute_result"
    }
   ],
   "source": [
    "y=np.asarray(train['SalePrice'])\n",
    "y=np.log(y+1)\n",
    "\n",
    "X_train = pd.get_dummies(pd.concat((train.drop([\"SalePrice\", \"Id\"], axis=1),\n",
    "                                          test.drop([\"Id\"], axis=1)), axis=0)).iloc[: train.shape[0]]\n",
    "\n",
    "X_test = pd.get_dummies(pd.concat((train.drop([\"SalePrice\", \"Id\"], axis=1),\n",
    "                                         test.drop([\"Id\"], axis=1)), axis=0)).iloc[train.shape[0]:]\n",
    "\n",
    "X_train.shape, X_test.shape"
   ]
  },
  {
   "cell_type": "markdown",
   "metadata": {
    "_uuid": "0ec80a5a845d4a33cbb8038cf62f025fd7a61f29"
   },
   "source": [
    "# Model Building\n",
    "\n",
    "Let's build our model using:\n",
    "\n",
    "* Ridge\n",
    "* Lasso\n",
    "* Elastic Net"
   ]
  },
  {
   "cell_type": "code",
   "execution_count": 53,
   "metadata": {},
   "outputs": [],
   "source": [
    "def return_rmse(model):\n",
    "    return np.sqrt(-cross_val_score(model, X_train, y, cv=5, scoring=\"neg_mean_squared_error\")).mean()"
   ]
  },
  {
   "cell_type": "markdown",
   "metadata": {
    "_uuid": "f8a8ec813488b73ccfed7f339f6f198fd4485586"
   },
   "source": [
    "### 1. Ridge Regression \n",
    "\n",
    "Ridge regression uses L2 penalty which means it adds penalty of `squared magnitude` of coefficients to it's `cost function`.\n",
    "\n",
    "* **alpha** is used for regularization strength\n",
    "\n",
    "* If it is zero, it works same as `LinearRegression`\n",
    "\n",
    "* Increase in alpha increases smoothness (reduces complexity by decreasing variance)\n",
    "\n",
    "* Decrease in alpha increases magnitude of coefficients (increases complexity by decreasing bias)"
   ]
  },
  {
   "cell_type": "code",
   "execution_count": 58,
   "metadata": {
    "_uuid": "b46ae6d6a82ddf6c5bf51d1240cde2127809ca9f"
   },
   "outputs": [
    {
     "data": {
      "text/plain": [
       "0.11482151587866671"
      ]
     },
     "execution_count": 58,
     "metadata": {},
     "output_type": "execute_result"
    }
   ],
   "source": [
    "RR= Ridge(alpha=15)\n",
    "RR.fit(X_train, y)\n",
    "return_rmse(RR)"
   ]
  },
  {
   "cell_type": "markdown",
   "metadata": {
    "_uuid": "649655338474eee7c8b718c2297a79924efb943c"
   },
   "source": [
    "### 2. Lasso Regression\n",
    "\n",
    "Lasso (Least Absolute Shrinkage and Selection Operator) uses L1 penalty which means it adds penalty of `absolute value of magnitude` of coefficients to it's `cost function`. Unlike L2, it can lead to zero coefficients. So in this case some features are completely neglected thus less prone to overfit. By assigning zero coefficients to less important features it helps in feature selection\n",
    "\n",
    "* **alpha** works same as `Ridge`\n",
    "\n",
    "* If it is zero, it works same as `LinearRegression`\n",
    "\n",
    "* Increase in alpha increases smoothness (reduces complexity by decreasing variance)\n",
    "\n",
    "* Decrease in alpha increases magnitude of coefficients (increases complexity by decreasing bias)"
   ]
  },
  {
   "cell_type": "code",
   "execution_count": 59,
   "metadata": {
    "_uuid": "b147a124c9f1ac073a445f06e0d03cbc85810dc9"
   },
   "outputs": [
    {
     "data": {
      "text/plain": [
       "0.1124142427689748"
      ]
     },
     "execution_count": 59,
     "metadata": {},
     "output_type": "execute_result"
    }
   ],
   "source": [
    "LSR = Lasso(alpha=0.0005)\n",
    "LSR.fit(X_train, y)\n",
    "return_rmse(LSR)"
   ]
  },
  {
   "cell_type": "markdown",
   "metadata": {
    "_uuid": "b67faa1cba802bd9822550584f982ff1cf2f4be5"
   },
   "source": [
    "### 3. ElasticNet\n",
    "\n",
    "Elastic Net uses `both L1 and L2` penalty like it's a `combination of LASSO and Ridge`. It works well on `large datasets`\n",
    "\n",
    "* **alpha** works same as in `Ridge and Lasso` \n",
    "\n",
    "* **l1_ratio** is to control penalty \n",
    "\n",
    "* if it is `0` , it is `L2`\n",
    "\n",
    "* if it is `1`, it is `L1`\n",
    "\n",
    "* if it is `0 < l1_ratio < 1`, it is combination of `L1 and L2`"
   ]
  },
  {
   "cell_type": "code",
   "execution_count": 60,
   "metadata": {
    "_uuid": "4c6a6053cd7a9de948eb29e84058a8360e541f82"
   },
   "outputs": [
    {
     "data": {
      "text/plain": [
       "0.11605396174249383"
      ]
     },
     "execution_count": 60,
     "metadata": {},
     "output_type": "execute_result"
    }
   ],
   "source": [
    "EN = ElasticNet(alpha=0.01,l1_ratio=0.1)\n",
    "EN.fit(X_train, y)\n",
    "return_rmse(EN)"
   ]
  },
  {
   "cell_type": "markdown",
   "metadata": {},
   "source": [
    "### Handling Outliers where our model predicted poor results using Z-Score"
   ]
  },
  {
   "cell_type": "code",
   "execution_count": 103,
   "metadata": {
    "scrolled": true
   },
   "outputs": [
    {
     "data": {
      "text/plain": [
       "array([  13,   30,   48,   66,   88,  107,  142,  218,  277,  308,  328,\n",
       "        365,  410,  431,  461,  472,  478,  487,  494,  531,  558,  579,\n",
       "        586,  626,  630,  656,  679,  686,  708,  712,  726,  736,  772,\n",
       "        810,  872,  883,  914,  933,  966,  968, 1059, 1119, 1178, 1208,\n",
       "       1320, 1333, 1428, 1449], dtype=int64)"
      ]
     },
     "execution_count": 103,
     "metadata": {},
     "output_type": "execute_result"
    }
   ],
   "source": [
    "y_pred = RR.predict(X_train)\n",
    "residual = y - y_pred\n",
    "z = np.abs(stats.zscore(residual))\n",
    "outliers1=np.where(abs(z) > abs(z).std() * 3)[0]\n",
    "outliers1"
   ]
  },
  {
   "cell_type": "code",
   "execution_count": 105,
   "metadata": {},
   "outputs": [
    {
     "data": {
      "text/plain": [
       "array([  30,   66,   88,  107,  142,  218,  277,  308,  318,  328,  410,\n",
       "        431,  451,  461,  478,  494,  531,  558,  579,  586,  626,  630,\n",
       "        664,  679,  686,  708,  709,  712,  726,  736,  770,  772,  810,\n",
       "        872,  883,  914,  966,  968, 1059, 1119, 1178, 1208, 1320, 1321,\n",
       "       1333, 1382, 1419, 1428, 1449], dtype=int64)"
      ]
     },
     "execution_count": 105,
     "metadata": {},
     "output_type": "execute_result"
    }
   ],
   "source": [
    "y_pred = LSR.predict(X_train)\n",
    "residual = y - y_pred\n",
    "z = np.abs(stats.zscore(residual))\n",
    "outliers2=np.where(abs(z) > abs(z).std() * 3)[0]\n",
    "outliers2"
   ]
  },
  {
   "cell_type": "code",
   "execution_count": 106,
   "metadata": {},
   "outputs": [
    {
     "data": {
      "text/plain": [
       "array([  30,   66,   70,   88,   93,  142,  218,  277,  328,  410,  431,\n",
       "        451,  461,  478,  494,  531,  558,  579,  586,  626,  630,  660,\n",
       "        664,  679,  686,  708,  712,  726,  736,  770,  772,  801,  810,\n",
       "        862,  872,  883,  896,  914,  966,  968, 1059, 1065, 1178, 1208,\n",
       "       1320, 1333, 1419, 1428, 1449], dtype=int64)"
      ]
     },
     "execution_count": 106,
     "metadata": {},
     "output_type": "execute_result"
    }
   ],
   "source": [
    "y_pred = EN.predict(X_train)\n",
    "residual = y - y_pred\n",
    "z = np.abs(stats.zscore(residual))\n",
    "outliers3=list(np.where(abs(z) > abs(z).std() * 3))[0]\n",
    "outliers3"
   ]
  },
  {
   "cell_type": "markdown",
   "metadata": {},
   "source": [
    "#### Let's drop these outliers"
   ]
  },
  {
   "cell_type": "code",
   "execution_count": 109,
   "metadata": {
    "scrolled": true
   },
   "outputs": [],
   "source": [
    "outliers = []\n",
    "for i in outliers1:\n",
    "    if (i in outliers2) & (i in outliers3):\n",
    "        outliers.append(i)     \n",
    "\n",
    "train = train.drop(outliers)        "
   ]
  },
  {
   "cell_type": "markdown",
   "metadata": {},
   "source": [
    "### Train models again"
   ]
  },
  {
   "cell_type": "code",
   "execution_count": 110,
   "metadata": {},
   "outputs": [],
   "source": [
    "y = train[\"SalePrice\"]\n",
    "y = np.log(y+1)\n",
    "\n",
    "X_train = pd.get_dummies(pd.concat((train.drop([\"SalePrice\", \"Id\"], axis=1),\n",
    "                                    test.drop([\"Id\"], axis=1)), axis=0)).iloc[: train.shape[0]]\n",
    "X_test = pd.get_dummies(pd.concat((train.drop([\"SalePrice\", \"Id\"], axis=1),\n",
    "                                   test.drop([\"Id\"], axis=1)), axis=0)).iloc[train.shape[0]:]"
   ]
  },
  {
   "cell_type": "code",
   "execution_count": 117,
   "metadata": {},
   "outputs": [
    {
     "data": {
      "text/plain": [
       "0.0881355079602469"
      ]
     },
     "execution_count": 117,
     "metadata": {},
     "output_type": "execute_result"
    }
   ],
   "source": [
    "RR= Ridge(alpha=15)\n",
    "RR.fit(X_train, y)\n",
    "return_rmse(RR)"
   ]
  },
  {
   "cell_type": "code",
   "execution_count": 119,
   "metadata": {},
   "outputs": [
    {
     "data": {
      "text/plain": [
       "0.08816763550770587"
      ]
     },
     "execution_count": 119,
     "metadata": {},
     "output_type": "execute_result"
    }
   ],
   "source": [
    "LSR = Lasso(alpha=0.0004)\n",
    "LSR.fit(X_train, y)\n",
    "return_rmse(LSR)"
   ]
  },
  {
   "cell_type": "code",
   "execution_count": 125,
   "metadata": {},
   "outputs": [
    {
     "data": {
      "text/plain": [
       "0.08841529867119127"
      ]
     },
     "execution_count": 125,
     "metadata": {},
     "output_type": "execute_result"
    }
   ],
   "source": [
    "EN = ElasticNet(alpha=0.001,l1_ratio=0.5)\n",
    "EN.fit(X_train, y)\n",
    "return_rmse(EN)"
   ]
  },
  {
   "cell_type": "markdown",
   "metadata": {},
   "source": [
    "Our models performance got better!"
   ]
  },
  {
   "cell_type": "markdown",
   "metadata": {},
   "source": [
    "### Combine these models for final prediction on test set"
   ]
  },
  {
   "cell_type": "code",
   "execution_count": 132,
   "metadata": {},
   "outputs": [],
   "source": [
    "predict = 0.4 * RR.predict(test_dummies) + 0.3 * EN.predict(test_dummies) + 0.3 * LSR.predict(test_dummies)\n",
    "\n",
    "predict= np.exp(predict)-1\n",
    "sample_submission= pd.DataFrame({'Id':np.asarray(test.Id), 'SalePrice':predict})\n",
    "sample_submission.to_csv(\"submit.csv\", index=False)"
   ]
  },
  {
   "cell_type": "markdown",
   "metadata": {},
   "source": [
    "#### And its done!!"
   ]
  }
 ],
 "metadata": {
  "kernelspec": {
   "display_name": "Python 3",
   "language": "python",
   "name": "python3"
  },
  "language_info": {
   "codemirror_mode": {
    "name": "ipython",
    "version": 3
   },
   "file_extension": ".py",
   "mimetype": "text/x-python",
   "name": "python",
   "nbconvert_exporter": "python",
   "pygments_lexer": "ipython3",
   "version": "3.6.5"
  }
 },
 "nbformat": 4,
 "nbformat_minor": 1
}
