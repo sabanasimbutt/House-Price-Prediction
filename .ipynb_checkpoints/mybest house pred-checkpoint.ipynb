{
 "cells": [
  {
   "cell_type": "code",
   "execution_count": 14,
   "metadata": {},
   "outputs": [],
   "source": [
    "import numpy as np \n",
    "import pandas as pd\n",
    "import seaborn as sns \n",
    "\n",
    "import warnings\n",
    "warnings.filterwarnings(\"ignore\")\n",
    "import matplotlib.pyplot as plt\n",
    "from sklearn.model_selection import train_test_split\n",
    "from sklearn.linear_model import Lasso, Ridge, ElasticNet\n",
    "from sklearn.metrics import mean_squared_error, r2_score\n",
    "from sklearn.model_selection import GridSearchCV, cross_val_score\n",
    "from scipy.stats import norm\n",
    "from xgboost.sklearn import XGBRegressor\n",
    "from sklearn.ensemble import GradientBoostingRegressor\n",
    "import time\n",
    "from scipy.stats import skew,kurtosis\n",
    "from scipy.stats.stats import pearsonr"
   ]
  },
  {
   "cell_type": "code",
   "execution_count": 48,
   "metadata": {},
   "outputs": [
    {
     "name": "stdout",
     "output_type": "stream",
     "text": [
      "Before: (1460, 81)\n",
      "After: (1456, 81)\n"
     ]
    }
   ],
   "source": [
    "train= pd.read_csv('C://Users/Saba Naseem/Desktop/kaggle/House Price Predicion/train.csv')\n",
    "test= pd.read_csv('C://Users/Saba Naseem/Desktop/kaggle/House Price Predicion/test.csv')\n",
    "\n",
    "\n",
    "print(\"Before:\",train.shape)\n",
    "\n",
    "train.drop(train[(train['OverallQual']<5) & (train['SalePrice']>200000)].index, inplace=True)\n",
    "train.drop(train[(train['GrLivArea']>4000) & (train['SalePrice']<300000)].index, inplace=True)\n",
    "train.drop(train[(train['GarageArea']>1200) & (train['SalePrice']<100000)].index, inplace=True)\n",
    "train.drop(train[(train['TotalBsmtSF']>6000) & (train['SalePrice']<200000)].index, inplace=True)\n",
    "train.reset_index(drop=True, inplace=True)\n",
    "\n",
    "print(\"After:\",train.shape)\n",
    "\n",
    "test.loc[960, 'PoolQC']='Fa'\n",
    "test.loc[1043, 'PoolQC']='Gd'\n",
    "test.loc[1139, 'PoolQC']='Fa'\n",
    "train['PoolQC'].fillna('None', inplace=True)\n",
    "test['PoolQC'].fillna('None', inplace=True)\n",
    "train['FireplaceQu'].fillna('None', inplace=True)\n",
    "test['FireplaceQu'].fillna('None', inplace=True)\n",
    "train['LotFrontage'].fillna(70, inplace=True)\n",
    "test['LotFrontage'].fillna(68, inplace=True)\n",
    "\n",
    "train['GarageQual'].fillna('None', inplace=True)\n",
    "test['GarageQual'].fillna('None', inplace=True)\n",
    "train['GarageFinish'].fillna('None', inplace=True)\n",
    "test['GarageFinish'].fillna('None', inplace=True)\n",
    "train['GarageYrBlt'].fillna('None', inplace=True)\n",
    "test['GarageYrBlt'].fillna('None', inplace=True)\n",
    "train['GarageType'].fillna('None', inplace=True)\n",
    "test['GarageType'].fillna('None', inplace=True)\n",
    "train['GarageCond'].fillna('None', inplace=True)\n",
    "test['GarageCond'].fillna('None', inplace=True)\n",
    "test.loc[test['Id']==2577, 'GarageType']='None'\n",
    "\n",
    "test['GarageCars'].fillna(0, inplace=True)\n",
    "test['GarageArea'].fillna(0, inplace=True)\n",
    "\n",
    "test.loc[test['Id']==2041, 'BsmtCond']='Gd'\n",
    "test.loc[test['Id']==2186, 'BsmtCond']='TA'\n",
    "test.loc[test['Id']==2525, 'BsmtCond']='TA'\n",
    "train['BsmtCond'].fillna('None', inplace=True)\n",
    "test['BsmtCond'].fillna('None', inplace=True)\n",
    "train['BsmtExposure'].fillna('None', inplace=True)\n",
    "test['BsmtExposure'].fillna('None', inplace=True)\n",
    "test.loc[test['Id']==2218, 'BsmtQual']='Fa'\n",
    "test.loc[test['Id']==2219, 'BsmtQual']='TA'\n",
    "train['BsmtQual'].fillna('None', inplace=True)\n",
    "test['BsmtQual'].fillna('None', inplace=True)\n",
    "train.loc[train['Id']==333, 'BsmtFinType2']='Unf'\n",
    "train['BsmtFinType2'].fillna('None', inplace=True)\n",
    "test['BsmtFinType2'].fillna('None', inplace=True)\n",
    "train['BsmtFinType1'].fillna('None', inplace=True)\n",
    "test['BsmtFinType1'].fillna('None', inplace=True)\n",
    "test['BsmtHalfBath'].fillna(0, inplace=True)\n",
    "test['BsmtFullBath'].fillna(0, inplace=True)\n",
    "test['BsmtFinSF1'].fillna(0, inplace=True)\n",
    "test['BsmtFinSF2'].fillna(0, inplace=True)\n",
    "test['BsmtUnfSF'].fillna(0, inplace=True)\n",
    "test['TotalBsmtSF'].fillna(0, inplace=True)\n",
    "\n",
    "\n",
    "\n",
    "train['MasVnrType'].fillna('None', inplace=True)\n",
    "test['MasVnrType'].fillna('None', inplace=True)\n",
    "train['MasVnrArea'].fillna(0, inplace=True)\n",
    "test['MasVnrArea'].fillna(0, inplace=True)\n",
    "\n",
    "test['MSZoning'].fillna('RL', inplace=True)\n",
    "\n",
    "test['Functional'].fillna('Typ', inplace=True)\n",
    "test['SaleType'].fillna('WD', inplace=True)\n",
    "test['Exterior1st'].fillna('VinylSd', inplace=True)\n",
    "test['KitchenQual'].fillna('TA', inplace=True)\n",
    "test['Exterior2nd'].fillna('VinylSd', inplace=True)\n",
    "train['Electrical'].fillna('SBrkr', inplace=True)\n",
    "\n",
    "train['MiscFeature'].fillna('None', inplace=True)\n",
    "train['Alley'].fillna('None', inplace=True)\n",
    "train['Fence'].fillna('None', inplace=True)\n",
    "\n",
    "test['MiscFeature'].fillna('None', inplace=True)\n",
    "test['Alley'].fillna('None', inplace=True)\n",
    "test['Fence'].fillna('None', inplace=True)\n",
    "\n",
    "\n",
    "\n",
    "train['renovated']= 1\n",
    "train.loc[(train['YearBuilt']!=train['YearRemodAdd']),'renovated' ]=0\n",
    "test['renovated']= 1\n",
    "test.loc[(test['YearBuilt']!=test['YearRemodAdd']),'renovated' ]=0\n",
    "\n",
    "train['Total_porch']= (train['OpenPorchSF'])+train['ScreenPorch']+train['3SsnPorch']\n",
    "train['BsmtFinSF_total']= (train['BsmtFinSF1']**2)+train['BsmtFinSF2']\n",
    "train['Bath']= (train['FullBath']**2)+ train['HalfBath']\n",
    "train['BsmtBath']= (train['BsmtFullBath'])+train['BsmtHalfBath']\n",
    "\n",
    "train['TotalSF'] = train['TotalBsmtSF'] + train['1stFlrSF'] + train['2ndFlrSF']\n",
    "train['Total_garage']= (train['GarageCars']**5)+ train['GarageArea']\n",
    "\n",
    "\n",
    "test['Total_porch']= (test['OpenPorchSF'])+test['ScreenPorch']+test['3SsnPorch']\n",
    "test['BsmtFinSF_total']= (test['BsmtFinSF1']**2)+test['BsmtFinSF2']\n",
    "test['Bath']= (test['FullBath']**2)+ test['HalfBath']\n",
    "test['BsmtBath']= (test['BsmtFullBath'])+test['BsmtHalfBath']\n",
    "\n",
    "test['TotalSF'] = test['TotalBsmtSF'] + test['1stFlrSF'] + test['2ndFlrSF']\n",
    "test['Total_garage']= (test['GarageCars']**5)+ test['GarageArea']\n"
   ]
  },
  {
   "cell_type": "code",
   "execution_count": 49,
   "metadata": {},
   "outputs": [],
   "source": [
    "train.drop('Utilities', axis=1, inplace=True)\n",
    "test.drop('Utilities', axis=1, inplace=True)"
   ]
  },
  {
   "cell_type": "code",
   "execution_count": 50,
   "metadata": {},
   "outputs": [
    {
     "name": "stdout",
     "output_type": "stream",
     "text": [
      "Total_garage    0\n",
      "BsmtExposure    0\n",
      "Exterior2nd     0\n",
      "MasVnrType      0\n",
      "MasVnrArea      0\n",
      "dtype: int64\n",
      "Total_garage    0\n",
      "BsmtExposure    0\n",
      "Exterior2nd     0\n",
      "MasVnrType      0\n",
      "MasVnrArea      0\n",
      "dtype: int64\n"
     ]
    }
   ],
   "source": [
    "print(train.isnull().sum().sort_values(ascending=False).head(5))\n",
    "print(test.isnull().sum().sort_values(ascending=False).head(5))"
   ]
  },
  {
   "cell_type": "code",
   "execution_count": 51,
   "metadata": {},
   "outputs": [],
   "source": [
    "train_dummies = pd.get_dummies(pd.concat((train.drop([\"SalePrice\", \"Id\"], axis=1), test.drop([\"Id\"], axis=1)), axis=0)).iloc[: train.shape[0]]\n",
    "test_dummies = pd.get_dummies(pd.concat((train.drop([\"SalePrice\", \"Id\"], axis=1), test.drop([\"Id\"], axis=1)), axis=0)).iloc[train.shape[0]:]"
   ]
  },
  {
   "cell_type": "code",
   "execution_count": 52,
   "metadata": {},
   "outputs": [],
   "source": [
    "y=np.asarray(train['SalePrice'])\n",
    "y=np.log(y+1)"
   ]
  },
  {
   "cell_type": "code",
   "execution_count": 53,
   "metadata": {},
   "outputs": [
    {
     "data": {
      "text/plain": [
       "0.11524656013538255"
      ]
     },
     "execution_count": 53,
     "metadata": {},
     "output_type": "execute_result"
    }
   ],
   "source": [
    "rr = Ridge(alpha=10)\n",
    "rr.fit(train_dummies, y)\n",
    "np.sqrt(-cross_val_score(rr, train_dummies, y, cv=5, scoring=\"neg_mean_squared_error\")).mean()"
   ]
  },
  {
   "cell_type": "code",
   "execution_count": 54,
   "metadata": {},
   "outputs": [
    {
     "data": {
      "text/plain": [
       "array([  13,   30,   48,   66,   88,  107,  142,  218,  277,  308,  328,\n",
       "        365,  410,  431,  461,  472,  478,  487,  494,  531,  558,  579,\n",
       "        586,  626,  630,  656,  679,  686,  708,  712,  726,  736,  738,\n",
       "        772,  810,  872,  883,  914,  933,  966,  968,  970, 1059, 1119,\n",
       "       1178, 1208, 1320, 1333, 1340, 1428, 1449], dtype=int64)"
      ]
     },
     "execution_count": 54,
     "metadata": {},
     "output_type": "execute_result"
    }
   ],
   "source": [
    "y_pred = rr.predict(train_dummies)\n",
    "resid = y - y_pred\n",
    "mean_resid = resid.mean()\n",
    "std_resid = resid.std()\n",
    "z = (resid - mean_resid) / std_resid\n",
    "z = np.array(z)\n",
    "outliers1 = np.where(abs(z) > abs(z).std() * 3)[0]\n",
    "outliers1"
   ]
  },
  {
   "cell_type": "code",
   "execution_count": 55,
   "metadata": {},
   "outputs": [
    {
     "data": {
      "text/plain": [
       "0.11524656013538255"
      ]
     },
     "execution_count": 55,
     "metadata": {},
     "output_type": "execute_result"
    }
   ],
   "source": [
    "er = ElasticNet(alpha=0.001, l1_ratio=0.58)\n",
    "er.fit(train_dummies, y)\n",
    "np.sqrt(-cross_val_score(rr, train_dummies, y, cv=5, scoring=\"neg_mean_squared_error\")).mean()"
   ]
  },
  {
   "cell_type": "code",
   "execution_count": 56,
   "metadata": {},
   "outputs": [
    {
     "data": {
      "text/plain": [
       "array([  30,   66,   88,  107,  142,  218,  277,  308,  318,  328,  410,\n",
       "        431,  451,  461,  478,  494,  531,  558,  579,  586,  626,  630,\n",
       "        660,  664,  679,  686,  708,  709,  712,  726,  736,  770,  772,\n",
       "        810,  872,  883,  914,  966,  968, 1059, 1119, 1178, 1208, 1320,\n",
       "       1321, 1333, 1382, 1419, 1428, 1449], dtype=int64)"
      ]
     },
     "execution_count": 56,
     "metadata": {},
     "output_type": "execute_result"
    }
   ],
   "source": [
    "y_pred = er.predict(train_dummies)\n",
    "resid = y - y_pred\n",
    "mean_resid = resid.mean()\n",
    "std_resid = resid.std()\n",
    "z = (resid - mean_resid) / std_resid\n",
    "z = np.array(z)\n",
    "outliers2 = np.where(abs(z) > abs(z).std() * 3)[0]\n",
    "outliers2"
   ]
  },
  {
   "cell_type": "code",
   "execution_count": 57,
   "metadata": {},
   "outputs": [],
   "source": [
    "outliers = []\n",
    "for i in outliers1:\n",
    "    for j in outliers2:\n",
    "        if i == j:\n",
    "            outliers.append(i)\n",
    "\n",
    "train = train.drop(outliers)\n",
    "y = train[\"SalePrice\"]\n",
    "y = np.log(y+1)\n",
    "\n",
    "train_dummies = pd.get_dummies(pd.concat((train.drop([\"SalePrice\", \"Id\"], axis=1), test.drop([\"Id\"], axis=1)), axis=0)).iloc[: train.shape[0]]\n",
    "test_dummies = pd.get_dummies(pd.concat((train.drop([\"SalePrice\", \"Id\"], axis=1), test.drop([\"Id\"], axis=1)), axis=0)).iloc[train.shape[0]:]"
   ]
  },
  {
   "cell_type": "code",
   "execution_count": 36,
   "metadata": {},
   "outputs": [
    {
     "data": {
      "text/plain": [
       "0.0969516038307077"
      ]
     },
     "execution_count": 36,
     "metadata": {},
     "output_type": "execute_result"
    }
   ],
   "source": [
    "gbr = GradientBoostingRegressor(max_depth=4, n_estimators=150)\n",
    "gbr.fit(train_dummies, y)\n",
    "np.sqrt(-cross_val_score(gbr, train_dummies, y, cv=5, scoring=\"neg_mean_squared_error\")).mean()"
   ]
  },
  {
   "cell_type": "code",
   "execution_count": 37,
   "metadata": {},
   "outputs": [
    {
     "data": {
      "text/plain": [
       "0.0929216778951371"
      ]
     },
     "execution_count": 37,
     "metadata": {},
     "output_type": "execute_result"
    }
   ],
   "source": [
    "xgbr = XGBRegressor(max_depth=5, n_estimators=400)\n",
    "xgbr.fit(train_dummies, y)\n",
    "np.sqrt(-cross_val_score(xgbr, train_dummies, y, cv=5, scoring=\"neg_mean_squared_error\")).mean()"
   ]
  },
  {
   "cell_type": "code",
   "execution_count": 38,
   "metadata": {},
   "outputs": [
    {
     "data": {
      "text/plain": [
       "0.08760361207104081"
      ]
     },
     "execution_count": 38,
     "metadata": {},
     "output_type": "execute_result"
    }
   ],
   "source": [
    "lsr = Lasso(alpha=0.00047)\n",
    "lsr.fit(train_dummies, y)\n",
    "np.sqrt(-cross_val_score(lsr, train_dummies, y, cv=5, scoring=\"neg_mean_squared_error\")).mean()"
   ]
  },
  {
   "cell_type": "code",
   "execution_count": 39,
   "metadata": {},
   "outputs": [
    {
     "data": {
      "text/plain": [
       "0.08738857118088464"
      ]
     },
     "execution_count": 39,
     "metadata": {},
     "output_type": "execute_result"
    }
   ],
   "source": [
    "rr = Ridge(alpha=13)\n",
    "rr.fit(train_dummies, y)\n",
    "np.sqrt(-cross_val_score(rr, train_dummies, y, cv=5, scoring=\"neg_mean_squared_error\")).mean()"
   ]
  },
  {
   "cell_type": "code",
   "execution_count": 40,
   "metadata": {},
   "outputs": [
    {
     "data": {
      "text/plain": [
       "[<matplotlib.lines.Line2D at 0x205ab56fc50>]"
      ]
     },
     "execution_count": 40,
     "metadata": {},
     "output_type": "execute_result"
    },
    {
     "data": {
      "image/png": "[encoded data removed]",
      "text/plain": [
       "<Figure size 432x432 with 1 Axes>"
      ]
     },
     "metadata": {
      "needs_background": "light"
     },
     "output_type": "display_data"
    }
   ],
   "source": [
    "train_predict = 0.1 * gbr.predict(train_dummies) + 0.3 * xgbr.predict(train_dummies) + 0.3 * lsr.predict(train_dummies) + 0.3 * rr.predict(train_dummies)\n",
    "\n",
    "plt.figure(figsize=(6, 6))\n",
    "plt.scatter(y, train_predict)\n",
    "plt.plot(range(10, 15), range(10, 15), color=\"red\")"
   ]
  },
  {
   "cell_type": "code",
   "execution_count": 42,
   "metadata": {},
   "outputs": [
    {
     "data": {
      "text/plain": [
       "[<matplotlib.lines.Line2D at 0x205abfece10>]"
      ]
     },
     "execution_count": 42,
     "metadata": {},
     "output_type": "execute_result"
    },
    {
     "data": {
      "image/png": "[encoded data removed]",
      "text/plain": [
       "<Figure size 432x432 with 1 Axes>"
      ]
     },
     "metadata": {
      "needs_background": "light"
     },
     "output_type": "display_data"
    }
   ],
   "source": [
    "q1 = pd.DataFrame(train_predict).quantile(0.0042)\n",
    "pre_df = pd.DataFrame(train_predict)\n",
    "pre_df[\"SalePrice\"] = train_predict\n",
    "pre_df = pre_df[[\"SalePrice\"]]\n",
    "pre_df.loc[pre_df.SalePrice <= q1[0], \"SalePrice\"] = pre_df.loc[pre_df.SalePrice <= q1[0], \"SalePrice\"] *0.99\n",
    "train_predict = np.array(pre_df.SalePrice)\n",
    "plt.figure(figsize=(6, 6))\n",
    "plt.scatter(y, train_predict)\n",
    "plt.plot(range(10, 15), range(10, 15), color=\"red\")"
   ]
  },
  {
   "cell_type": "code",
   "execution_count": 58,
   "metadata": {},
   "outputs": [],
   "source": [
    "test_predict = 0.1 * gbr.predict(test_dummies) + 0.3 * xgbr.predict(test_dummies) + 0.3 * lsr.predict(test_dummies) + 0.3 * rr.predict(test_dummies)\n",
    "q1 = pd.DataFrame(test_predict).quantile(0.0042)\n",
    "pre_df = pd.DataFrame(test_predict)\n",
    "pre_df[\"SalePrice\"] = test_predict\n",
    "pre_df = pre_df[[\"SalePrice\"]]\n",
    "pre_df.loc[pre_df.SalePrice <= q1[0], \"SalePrice\"] = pre_df.loc[pre_df.SalePrice <= q1[0], \"SalePrice\"] *0.96\n",
    "test_predict = np.array(pre_df.SalePrice)"
   ]
  },
  {
   "cell_type": "code",
   "execution_count": 59,
   "metadata": {},
   "outputs": [],
   "source": [
    "test_predict= np.exp(test_predict)-1\n",
    "sample_submission= pd.DataFrame({'Id':np.asarray(test.Id), 'SalePrice':test_predict})\n",
    "sample_submission.to_csv(\"10.csv\", index=False)"
   ]
  },
  {
   "cell_type": "code",
   "execution_count": null,
   "metadata": {},
   "outputs": [],
   "source": []
  }
 ],
 "metadata": {
  "kernelspec": {
   "display_name": "Python 3",
   "language": "python",
   "name": "python3"
  },
  "language_info": {
   "codemirror_mode": {
    "name": "ipython",
    "version": 3
   },
   "file_extension": ".py",
   "mimetype": "text/x-python",
   "name": "python",
   "nbconvert_exporter": "python",
   "pygments_lexer": "ipython3",
   "version": "3.6.5"
  }
 },
 "nbformat": 4,
 "nbformat_minor": 2
}
