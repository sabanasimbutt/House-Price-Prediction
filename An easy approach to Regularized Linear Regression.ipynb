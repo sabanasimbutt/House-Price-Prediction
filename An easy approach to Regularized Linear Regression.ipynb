{
 "cells": [
  {
   "cell_type": "markdown",
   "metadata": {
    "_uuid": "a5f517ff5988ce6007b8c751e459835c800d8641"
   },
   "source": [
    "# Regularized Linear Regression \n",
    "\n",
    "**This competition helps alot to understand the methodology of a Data Science project and is a good option as a starter in this field.**"
   ]
  },
  {
   "cell_type": "markdown",
   "metadata": {
    "_uuid": "6e56eeb154f9cf98e79d66e0fec10be389c8c599"
   },
   "source": [
    "#### Importing some important libraries to work with"
   ]
  },
  {
   "cell_type": "code",
   "execution_count": 48,
   "metadata": {
    "_cell_guid": "b1076dfc-b9ad-4769-8c92-a6c4dae69d19",
    "_uuid": "8f2839f25d086af736a60e9eeb907d3b93b6e0e5"
   },
   "outputs": [],
   "source": [
    "import numpy as np \n",
    "import pandas as pd\n",
    "import seaborn as sns \n",
    "import matplotlib.pyplot as plt\n",
    "from sklearn.model_selection import train_test_split\n",
    "from sklearn.linear_model import Lasso, Ridge, ElasticNet\n",
    "from sklearn.metrics import mean_squared_error, r2_score\n",
    "from sklearn.model_selection import GridSearchCV\n",
    "from scipy.stats import norm\n",
    "import time\n",
    "\n",
    "# Input data files are available in the \"../input/\" directory.\n",
    "# For example, running this (by clicking run or pressing Shift+Enter) will list the files in the input directory\n",
    "\n",
    "#import os\n",
    "#print(os.listdir(\"../input\"))\n",
    "\n",
    "# Any results you write to the current directory are saved as output."
   ]
  },
  {
   "cell_type": "markdown",
   "metadata": {
    "_uuid": "e565bfade6d11c74b0ef3e09fb1786bf7896d7d2"
   },
   "source": [
    "**Load datasets.**"
   ]
  },
  {
   "cell_type": "code",
   "execution_count": 49,
   "metadata": {
    "_uuid": "8dbc40c3451affcb835ec90ef56d3d60bc47e6d8"
   },
   "outputs": [
    {
     "name": "stdout",
     "output_type": "stream",
     "text": [
      "shape of train dataset: (1460, 81)\n",
      "shape of test dataset: (1459, 80)\n"
     ]
    }
   ],
   "source": [
    "train= pd.read_csv('C://Users/Saba Naseem/Desktop/kaggle/House Price Predicion/train.csv')\n",
    "test= pd.read_csv('C://Users/Saba Naseem/Desktop/kaggle/House Price Predicion/test.csv')\n",
    "\n",
    "print(\"shape of train dataset:\", train.shape)\n",
    "print(\"shape of test dataset:\", test.shape)"
   ]
  },
  {
   "cell_type": "code",
   "execution_count": 3,
   "metadata": {
    "_uuid": "e044b84c02e8538c2262fdcbdfc42402867761de"
   },
   "outputs": [
    {
     "data": {
      "text/html": [
       "<div>\n",
       "<style scoped>\n",
       "    .dataframe tbody tr th:only-of-type {\n",
       "        vertical-align: middle;\n",
       "    }\n",
       "\n",
       "    .dataframe tbody tr th {\n",
       "        vertical-align: top;\n",
       "    }\n",
       "\n",
       "    .dataframe thead th {\n",
       "        text-align: right;\n",
       "    }\n",
       "</style>\n",
       "<table border=\"1\" class=\"dataframe\">\n",
       "  <thead>\n",
       "    <tr style=\"text-align: right;\">\n",
       "      <th></th>\n",
       "      <th>Id</th>\n",
       "      <th>MSSubClass</th>\n",
       "      <th>MSZoning</th>\n",
       "      <th>LotFrontage</th>\n",
       "      <th>LotArea</th>\n",
       "      <th>Street</th>\n",
       "      <th>Alley</th>\n",
       "      <th>LotShape</th>\n",
       "      <th>LandContour</th>\n",
       "      <th>Utilities</th>\n",
       "      <th>LotConfig</th>\n",
       "      <th>LandSlope</th>\n",
       "      <th>Neighborhood</th>\n",
       "      <th>Condition1</th>\n",
       "      <th>Condition2</th>\n",
       "      <th>BldgType</th>\n",
       "      <th>HouseStyle</th>\n",
       "      <th>OverallQual</th>\n",
       "      <th>OverallCond</th>\n",
       "      <th>YearBuilt</th>\n",
       "      <th>YearRemodAdd</th>\n",
       "      <th>RoofStyle</th>\n",
       "      <th>RoofMatl</th>\n",
       "      <th>Exterior1st</th>\n",
       "      <th>Exterior2nd</th>\n",
       "      <th>MasVnrType</th>\n",
       "      <th>MasVnrArea</th>\n",
       "      <th>ExterQual</th>\n",
       "      <th>ExterCond</th>\n",
       "      <th>Foundation</th>\n",
       "      <th>BsmtQual</th>\n",
       "      <th>BsmtCond</th>\n",
       "      <th>BsmtExposure</th>\n",
       "      <th>BsmtFinType1</th>\n",
       "      <th>BsmtFinSF1</th>\n",
       "      <th>BsmtFinType2</th>\n",
       "      <th>BsmtFinSF2</th>\n",
       "      <th>BsmtUnfSF</th>\n",
       "      <th>TotalBsmtSF</th>\n",
       "      <th>Heating</th>\n",
       "      <th>...</th>\n",
       "      <th>CentralAir</th>\n",
       "      <th>Electrical</th>\n",
       "      <th>1stFlrSF</th>\n",
       "      <th>2ndFlrSF</th>\n",
       "      <th>LowQualFinSF</th>\n",
       "      <th>GrLivArea</th>\n",
       "      <th>BsmtFullBath</th>\n",
       "      <th>BsmtHalfBath</th>\n",
       "      <th>FullBath</th>\n",
       "      <th>HalfBath</th>\n",
       "      <th>BedroomAbvGr</th>\n",
       "      <th>KitchenAbvGr</th>\n",
       "      <th>KitchenQual</th>\n",
       "      <th>TotRmsAbvGrd</th>\n",
       "      <th>Functional</th>\n",
       "      <th>Fireplaces</th>\n",
       "      <th>FireplaceQu</th>\n",
       "      <th>GarageType</th>\n",
       "      <th>GarageYrBlt</th>\n",
       "      <th>GarageFinish</th>\n",
       "      <th>GarageCars</th>\n",
       "      <th>GarageArea</th>\n",
       "      <th>GarageQual</th>\n",
       "      <th>GarageCond</th>\n",
       "      <th>PavedDrive</th>\n",
       "      <th>WoodDeckSF</th>\n",
       "      <th>OpenPorchSF</th>\n",
       "      <th>EnclosedPorch</th>\n",
       "      <th>3SsnPorch</th>\n",
       "      <th>ScreenPorch</th>\n",
       "      <th>PoolArea</th>\n",
       "      <th>PoolQC</th>\n",
       "      <th>Fence</th>\n",
       "      <th>MiscFeature</th>\n",
       "      <th>MiscVal</th>\n",
       "      <th>MoSold</th>\n",
       "      <th>YrSold</th>\n",
       "      <th>SaleType</th>\n",
       "      <th>SaleCondition</th>\n",
       "      <th>SalePrice</th>\n",
       "    </tr>\n",
       "  </thead>\n",
       "  <tbody>\n",
       "    <tr>\n",
       "      <th>0</th>\n",
       "      <td>1</td>\n",
       "      <td>60</td>\n",
       "      <td>RL</td>\n",
       "      <td>65.0</td>\n",
       "      <td>8450</td>\n",
       "      <td>Pave</td>\n",
       "      <td>NaN</td>\n",
       "      <td>Reg</td>\n",
       "      <td>Lvl</td>\n",
       "      <td>AllPub</td>\n",
       "      <td>Inside</td>\n",
       "      <td>Gtl</td>\n",
       "      <td>CollgCr</td>\n",
       "      <td>Norm</td>\n",
       "      <td>Norm</td>\n",
       "      <td>1Fam</td>\n",
       "      <td>2Story</td>\n",
       "      <td>7</td>\n",
       "      <td>5</td>\n",
       "      <td>2003</td>\n",
       "      <td>2003</td>\n",
       "      <td>Gable</td>\n",
       "      <td>CompShg</td>\n",
       "      <td>VinylSd</td>\n",
       "      <td>VinylSd</td>\n",
       "      <td>BrkFace</td>\n",
       "      <td>196.0</td>\n",
       "      <td>Gd</td>\n",
       "      <td>TA</td>\n",
       "      <td>PConc</td>\n",
       "      <td>Gd</td>\n",
       "      <td>TA</td>\n",
       "      <td>No</td>\n",
       "      <td>GLQ</td>\n",
       "      <td>706</td>\n",
       "      <td>Unf</td>\n",
       "      <td>0</td>\n",
       "      <td>150</td>\n",
       "      <td>856</td>\n",
       "      <td>GasA</td>\n",
       "      <td>...</td>\n",
       "      <td>Y</td>\n",
       "      <td>SBrkr</td>\n",
       "      <td>856</td>\n",
       "      <td>854</td>\n",
       "      <td>0</td>\n",
       "      <td>1710</td>\n",
       "      <td>1</td>\n",
       "      <td>0</td>\n",
       "      <td>2</td>\n",
       "      <td>1</td>\n",
       "      <td>3</td>\n",
       "      <td>1</td>\n",
       "      <td>Gd</td>\n",
       "      <td>8</td>\n",
       "      <td>Typ</td>\n",
       "      <td>0</td>\n",
       "      <td>NaN</td>\n",
       "      <td>Attchd</td>\n",
       "      <td>2003.0</td>\n",
       "      <td>RFn</td>\n",
       "      <td>2</td>\n",
       "      <td>548</td>\n",
       "      <td>TA</td>\n",
       "      <td>TA</td>\n",
       "      <td>Y</td>\n",
       "      <td>0</td>\n",
       "      <td>61</td>\n",
       "      <td>0</td>\n",
       "      <td>0</td>\n",
       "      <td>0</td>\n",
       "      <td>0</td>\n",
       "      <td>NaN</td>\n",
       "      <td>NaN</td>\n",
       "      <td>NaN</td>\n",
       "      <td>0</td>\n",
       "      <td>2</td>\n",
       "      <td>2008</td>\n",
       "      <td>WD</td>\n",
       "      <td>Normal</td>\n",
       "      <td>208500</td>\n",
       "    </tr>\n",
       "    <tr>\n",
       "      <th>1</th>\n",
       "      <td>2</td>\n",
       "      <td>20</td>\n",
       "      <td>RL</td>\n",
       "      <td>80.0</td>\n",
       "      <td>9600</td>\n",
       "      <td>Pave</td>\n",
       "      <td>NaN</td>\n",
       "      <td>Reg</td>\n",
       "      <td>Lvl</td>\n",
       "      <td>AllPub</td>\n",
       "      <td>FR2</td>\n",
       "      <td>Gtl</td>\n",
       "      <td>Veenker</td>\n",
       "      <td>Feedr</td>\n",
       "      <td>Norm</td>\n",
       "      <td>1Fam</td>\n",
       "      <td>1Story</td>\n",
       "      <td>6</td>\n",
       "      <td>8</td>\n",
       "      <td>1976</td>\n",
       "      <td>1976</td>\n",
       "      <td>Gable</td>\n",
       "      <td>CompShg</td>\n",
       "      <td>MetalSd</td>\n",
       "      <td>MetalSd</td>\n",
       "      <td>None</td>\n",
       "      <td>0.0</td>\n",
       "      <td>TA</td>\n",
       "      <td>TA</td>\n",
       "      <td>CBlock</td>\n",
       "      <td>Gd</td>\n",
       "      <td>TA</td>\n",
       "      <td>Gd</td>\n",
       "      <td>ALQ</td>\n",
       "      <td>978</td>\n",
       "      <td>Unf</td>\n",
       "      <td>0</td>\n",
       "      <td>284</td>\n",
       "      <td>1262</td>\n",
       "      <td>GasA</td>\n",
       "      <td>...</td>\n",
       "      <td>Y</td>\n",
       "      <td>SBrkr</td>\n",
       "      <td>1262</td>\n",
       "      <td>0</td>\n",
       "      <td>0</td>\n",
       "      <td>1262</td>\n",
       "      <td>0</td>\n",
       "      <td>1</td>\n",
       "      <td>2</td>\n",
       "      <td>0</td>\n",
       "      <td>3</td>\n",
       "      <td>1</td>\n",
       "      <td>TA</td>\n",
       "      <td>6</td>\n",
       "      <td>Typ</td>\n",
       "      <td>1</td>\n",
       "      <td>TA</td>\n",
       "      <td>Attchd</td>\n",
       "      <td>1976.0</td>\n",
       "      <td>RFn</td>\n",
       "      <td>2</td>\n",
       "      <td>460</td>\n",
       "      <td>TA</td>\n",
       "      <td>TA</td>\n",
       "      <td>Y</td>\n",
       "      <td>298</td>\n",
       "      <td>0</td>\n",
       "      <td>0</td>\n",
       "      <td>0</td>\n",
       "      <td>0</td>\n",
       "      <td>0</td>\n",
       "      <td>NaN</td>\n",
       "      <td>NaN</td>\n",
       "      <td>NaN</td>\n",
       "      <td>0</td>\n",
       "      <td>5</td>\n",
       "      <td>2007</td>\n",
       "      <td>WD</td>\n",
       "      <td>Normal</td>\n",
       "      <td>181500</td>\n",
       "    </tr>\n",
       "    <tr>\n",
       "      <th>2</th>\n",
       "      <td>3</td>\n",
       "      <td>60</td>\n",
       "      <td>RL</td>\n",
       "      <td>68.0</td>\n",
       "      <td>11250</td>\n",
       "      <td>Pave</td>\n",
       "      <td>NaN</td>\n",
       "      <td>IR1</td>\n",
       "      <td>Lvl</td>\n",
       "      <td>AllPub</td>\n",
       "      <td>Inside</td>\n",
       "      <td>Gtl</td>\n",
       "      <td>CollgCr</td>\n",
       "      <td>Norm</td>\n",
       "      <td>Norm</td>\n",
       "      <td>1Fam</td>\n",
       "      <td>2Story</td>\n",
       "      <td>7</td>\n",
       "      <td>5</td>\n",
       "      <td>2001</td>\n",
       "      <td>2002</td>\n",
       "      <td>Gable</td>\n",
       "      <td>CompShg</td>\n",
       "      <td>VinylSd</td>\n",
       "      <td>VinylSd</td>\n",
       "      <td>BrkFace</td>\n",
       "      <td>162.0</td>\n",
       "      <td>Gd</td>\n",
       "      <td>TA</td>\n",
       "      <td>PConc</td>\n",
       "      <td>Gd</td>\n",
       "      <td>TA</td>\n",
       "      <td>Mn</td>\n",
       "      <td>GLQ</td>\n",
       "      <td>486</td>\n",
       "      <td>Unf</td>\n",
       "      <td>0</td>\n",
       "      <td>434</td>\n",
       "      <td>920</td>\n",
       "      <td>GasA</td>\n",
       "      <td>...</td>\n",
       "      <td>Y</td>\n",
       "      <td>SBrkr</td>\n",
       "      <td>920</td>\n",
       "      <td>866</td>\n",
       "      <td>0</td>\n",
       "      <td>1786</td>\n",
       "      <td>1</td>\n",
       "      <td>0</td>\n",
       "      <td>2</td>\n",
       "      <td>1</td>\n",
       "      <td>3</td>\n",
       "      <td>1</td>\n",
       "      <td>Gd</td>\n",
       "      <td>6</td>\n",
       "      <td>Typ</td>\n",
       "      <td>1</td>\n",
       "      <td>TA</td>\n",
       "      <td>Attchd</td>\n",
       "      <td>2001.0</td>\n",
       "      <td>RFn</td>\n",
       "      <td>2</td>\n",
       "      <td>608</td>\n",
       "      <td>TA</td>\n",
       "      <td>TA</td>\n",
       "      <td>Y</td>\n",
       "      <td>0</td>\n",
       "      <td>42</td>\n",
       "      <td>0</td>\n",
       "      <td>0</td>\n",
       "      <td>0</td>\n",
       "      <td>0</td>\n",
       "      <td>NaN</td>\n",
       "      <td>NaN</td>\n",
       "      <td>NaN</td>\n",
       "      <td>0</td>\n",
       "      <td>9</td>\n",
       "      <td>2008</td>\n",
       "      <td>WD</td>\n",
       "      <td>Normal</td>\n",
       "      <td>223500</td>\n",
       "    </tr>\n",
       "    <tr>\n",
       "      <th>3</th>\n",
       "      <td>4</td>\n",
       "      <td>70</td>\n",
       "      <td>RL</td>\n",
       "      <td>60.0</td>\n",
       "      <td>9550</td>\n",
       "      <td>Pave</td>\n",
       "      <td>NaN</td>\n",
       "      <td>IR1</td>\n",
       "      <td>Lvl</td>\n",
       "      <td>AllPub</td>\n",
       "      <td>Corner</td>\n",
       "      <td>Gtl</td>\n",
       "      <td>Crawfor</td>\n",
       "      <td>Norm</td>\n",
       "      <td>Norm</td>\n",
       "      <td>1Fam</td>\n",
       "      <td>2Story</td>\n",
       "      <td>7</td>\n",
       "      <td>5</td>\n",
       "      <td>1915</td>\n",
       "      <td>1970</td>\n",
       "      <td>Gable</td>\n",
       "      <td>CompShg</td>\n",
       "      <td>Wd Sdng</td>\n",
       "      <td>Wd Shng</td>\n",
       "      <td>None</td>\n",
       "      <td>0.0</td>\n",
       "      <td>TA</td>\n",
       "      <td>TA</td>\n",
       "      <td>BrkTil</td>\n",
       "      <td>TA</td>\n",
       "      <td>Gd</td>\n",
       "      <td>No</td>\n",
       "      <td>ALQ</td>\n",
       "      <td>216</td>\n",
       "      <td>Unf</td>\n",
       "      <td>0</td>\n",
       "      <td>540</td>\n",
       "      <td>756</td>\n",
       "      <td>GasA</td>\n",
       "      <td>...</td>\n",
       "      <td>Y</td>\n",
       "      <td>SBrkr</td>\n",
       "      <td>961</td>\n",
       "      <td>756</td>\n",
       "      <td>0</td>\n",
       "      <td>1717</td>\n",
       "      <td>1</td>\n",
       "      <td>0</td>\n",
       "      <td>1</td>\n",
       "      <td>0</td>\n",
       "      <td>3</td>\n",
       "      <td>1</td>\n",
       "      <td>Gd</td>\n",
       "      <td>7</td>\n",
       "      <td>Typ</td>\n",
       "      <td>1</td>\n",
       "      <td>Gd</td>\n",
       "      <td>Detchd</td>\n",
       "      <td>1998.0</td>\n",
       "      <td>Unf</td>\n",
       "      <td>3</td>\n",
       "      <td>642</td>\n",
       "      <td>TA</td>\n",
       "      <td>TA</td>\n",
       "      <td>Y</td>\n",
       "      <td>0</td>\n",
       "      <td>35</td>\n",
       "      <td>272</td>\n",
       "      <td>0</td>\n",
       "      <td>0</td>\n",
       "      <td>0</td>\n",
       "      <td>NaN</td>\n",
       "      <td>NaN</td>\n",
       "      <td>NaN</td>\n",
       "      <td>0</td>\n",
       "      <td>2</td>\n",
       "      <td>2006</td>\n",
       "      <td>WD</td>\n",
       "      <td>Abnorml</td>\n",
       "      <td>140000</td>\n",
       "    </tr>\n",
       "    <tr>\n",
       "      <th>4</th>\n",
       "      <td>5</td>\n",
       "      <td>60</td>\n",
       "      <td>RL</td>\n",
       "      <td>84.0</td>\n",
       "      <td>14260</td>\n",
       "      <td>Pave</td>\n",
       "      <td>NaN</td>\n",
       "      <td>IR1</td>\n",
       "      <td>Lvl</td>\n",
       "      <td>AllPub</td>\n",
       "      <td>FR2</td>\n",
       "      <td>Gtl</td>\n",
       "      <td>NoRidge</td>\n",
       "      <td>Norm</td>\n",
       "      <td>Norm</td>\n",
       "      <td>1Fam</td>\n",
       "      <td>2Story</td>\n",
       "      <td>8</td>\n",
       "      <td>5</td>\n",
       "      <td>2000</td>\n",
       "      <td>2000</td>\n",
       "      <td>Gable</td>\n",
       "      <td>CompShg</td>\n",
       "      <td>VinylSd</td>\n",
       "      <td>VinylSd</td>\n",
       "      <td>BrkFace</td>\n",
       "      <td>350.0</td>\n",
       "      <td>Gd</td>\n",
       "      <td>TA</td>\n",
       "      <td>PConc</td>\n",
       "      <td>Gd</td>\n",
       "      <td>TA</td>\n",
       "      <td>Av</td>\n",
       "      <td>GLQ</td>\n",
       "      <td>655</td>\n",
       "      <td>Unf</td>\n",
       "      <td>0</td>\n",
       "      <td>490</td>\n",
       "      <td>1145</td>\n",
       "      <td>GasA</td>\n",
       "      <td>...</td>\n",
       "      <td>Y</td>\n",
       "      <td>SBrkr</td>\n",
       "      <td>1145</td>\n",
       "      <td>1053</td>\n",
       "      <td>0</td>\n",
       "      <td>2198</td>\n",
       "      <td>1</td>\n",
       "      <td>0</td>\n",
       "      <td>2</td>\n",
       "      <td>1</td>\n",
       "      <td>4</td>\n",
       "      <td>1</td>\n",
       "      <td>Gd</td>\n",
       "      <td>9</td>\n",
       "      <td>Typ</td>\n",
       "      <td>1</td>\n",
       "      <td>TA</td>\n",
       "      <td>Attchd</td>\n",
       "      <td>2000.0</td>\n",
       "      <td>RFn</td>\n",
       "      <td>3</td>\n",
       "      <td>836</td>\n",
       "      <td>TA</td>\n",
       "      <td>TA</td>\n",
       "      <td>Y</td>\n",
       "      <td>192</td>\n",
       "      <td>84</td>\n",
       "      <td>0</td>\n",
       "      <td>0</td>\n",
       "      <td>0</td>\n",
       "      <td>0</td>\n",
       "      <td>NaN</td>\n",
       "      <td>NaN</td>\n",
       "      <td>NaN</td>\n",
       "      <td>0</td>\n",
       "      <td>12</td>\n",
       "      <td>2008</td>\n",
       "      <td>WD</td>\n",
       "      <td>Normal</td>\n",
       "      <td>250000</td>\n",
       "    </tr>\n",
       "  </tbody>\n",
       "</table>\n",
       "</div>"
      ],
      "text/plain": [
       "   Id  MSSubClass MSZoning    ...     SaleType  SaleCondition SalePrice\n",
       "0   1          60       RL    ...           WD         Normal    208500\n",
       "1   2          20       RL    ...           WD         Normal    181500\n",
       "2   3          60       RL    ...           WD         Normal    223500\n",
       "3   4          70       RL    ...           WD        Abnorml    140000\n",
       "4   5          60       RL    ...           WD         Normal    250000\n",
       "\n",
       "[5 rows x 81 columns]"
      ]
     },
     "execution_count": 3,
     "metadata": {},
     "output_type": "execute_result"
    }
   ],
   "source": [
    "train.head()"
   ]
  },
  {
   "cell_type": "markdown",
   "metadata": {
    "_uuid": "4c08e4754900964af6990f5c59f5f8b8d8f95227"
   },
   "source": [
    "## 1. Exploratory Data Analysis\n",
    "\n",
    "### Visualization of target variable SalePrice data distribution."
   ]
  },
  {
   "cell_type": "code",
   "execution_count": 4,
   "metadata": {
    "_uuid": "2ea892c4263483c77ce556de1bada66f92b80b84"
   },
   "outputs": [
    {
     "name": "stderr",
     "output_type": "stream",
     "text": [
      "/opt/conda/lib/python3.6/site-packages/scipy/stats/stats.py:1713: FutureWarning: Using a non-tuple sequence for multidimensional indexing is deprecated; use `arr[tuple(seq)]` instead of `arr[seq]`. In the future this will be interpreted as an array index, `arr[np.array(seq)]`, which will result either in an error or a different result.\n",
      "  return np.add.reduce(sorted[indexer] * weights, axis=axis) / sumval\n"
     ]
    },
    {
     "data": {
      "text/plain": [
       "<matplotlib.axes._subplots.AxesSubplot at 0x7f70f2c40ba8>"
      ]
     },
     "execution_count": 4,
     "metadata": {},
     "output_type": "execute_result"
    },
    {
     "data": {
      "image/png": "[encoded data removed]",
      "text/plain": [
       "<Figure size 720x432 with 1 Axes>"
      ]
     },
     "metadata": {},
     "output_type": "display_data"
    }
   ],
   "source": [
    "plt.figure(figsize=[10,6])\n",
    "sns.distplot(train.SalePrice, fit=norm)"
   ]
  },
  {
   "cell_type": "markdown",
   "metadata": {
    "_uuid": "1e50c3172800915bdb1970436dcc1758b8234c6a"
   },
   "source": [
    "The target variable is right skewed. So we need to transform this variable and make it more normally distributed.\n",
    "\n",
    "In case of positive skewness, log transformation works well."
   ]
  },
  {
   "cell_type": "code",
   "execution_count": 5,
   "metadata": {
    "_uuid": "5726f29810941277b6a3cf07d4ea556b9fc04af2"
   },
   "outputs": [
    {
     "name": "stderr",
     "output_type": "stream",
     "text": [
      "/opt/conda/lib/python3.6/site-packages/scipy/stats/stats.py:1713: FutureWarning: Using a non-tuple sequence for multidimensional indexing is deprecated; use `arr[tuple(seq)]` instead of `arr[seq]`. In the future this will be interpreted as an array index, `arr[np.array(seq)]`, which will result either in an error or a different result.\n",
      "  return np.add.reduce(sorted[indexer] * weights, axis=axis) / sumval\n"
     ]
    },
    {
     "data": {
      "text/plain": [
       "<matplotlib.axes._subplots.AxesSubplot at 0x7f70f2b568d0>"
      ]
     },
     "execution_count": 5,
     "metadata": {},
     "output_type": "execute_result"
    },
    {
     "data": {
      "image/png": "[encoded data removed]",
      "text/plain": [
       "<Figure size 720x432 with 1 Axes>"
      ]
     },
     "metadata": {},
     "output_type": "display_data"
    }
   ],
   "source": [
    "plt.figure(figsize=[10,6])\n",
    "sns.distplot(np.log(train.SalePrice), fit=norm)"
   ]
  },
  {
   "cell_type": "markdown",
   "metadata": {
    "_uuid": "c1d078e5423e7df397907abc49e04e8f86de4318"
   },
   "source": [
    "The data is now normally distributed as we corrected skew."
   ]
  },
  {
   "cell_type": "markdown",
   "metadata": {
    "_uuid": "cba60361ac6780944b72b0c6505fe33b0b8dac8d"
   },
   "source": [
    "### Let's visualize relationship of features with SalePrice using Seaborn's Heatmap"
   ]
  },
  {
   "cell_type": "code",
   "execution_count": 5,
   "metadata": {
    "_uuid": "bc8e9c9788f5a22d1ada56fc075566a865373004"
   },
   "outputs": [
    {
     "data": {
      "text/plain": [
       "<matplotlib.axes._subplots.AxesSubplot at 0x1d2361b9518>"
      ]
     },
     "execution_count": 5,
     "metadata": {},
     "output_type": "execute_result"
    },
    {
     "data": {
      "image/png": "[encoded data removed]",
      "text/plain": [
       "<Figure size 864x576 with 2 Axes>"
      ]
     },
     "metadata": {},
     "output_type": "display_data"
    }
   ],
   "source": [
    "correlation= train.corr()\n",
    "plt.figure(figsize=[12,8])\n",
    "plt.title('Correlation of Numeric Features with Sale Price')\n",
    "sns.heatmap(correlation)"
   ]
  },
  {
   "cell_type": "code",
   "execution_count": 50,
   "metadata": {
    "_uuid": "cfbb8a82e077e21b0cd25a8c90953fd675450e6e"
   },
   "outputs": [
    {
     "data": {
      "text/plain": [
       "SalePrice       1.000000\n",
       "OverallQual     0.790982\n",
       "GrLivArea       0.708624\n",
       "GarageCars      0.640409\n",
       "GarageArea      0.623431\n",
       "TotalBsmtSF     0.613581\n",
       "1stFlrSF        0.605852\n",
       "FullBath        0.560664\n",
       "TotRmsAbvGrd    0.533723\n",
       "YearBuilt       0.522897\n",
       "YearRemodAdd    0.507101\n",
       "GarageYrBlt     0.486362\n",
       "MasVnrArea      0.477493\n",
       "Fireplaces      0.466929\n",
       "BsmtFinSF1      0.386420\n",
       "LotFrontage     0.351799\n",
       "WoodDeckSF      0.324413\n",
       "2ndFlrSF        0.319334\n",
       "OpenPorchSF     0.315856\n",
       "HalfBath        0.284108\n",
       "LotArea         0.263843\n",
       "BsmtFullBath    0.227122\n",
       "BsmtUnfSF       0.214479\n",
       "BedroomAbvGr    0.168213\n",
       "ScreenPorch     0.111447\n",
       "Name: SalePrice, dtype: float64"
      ]
     },
     "execution_count": 50,
     "metadata": {},
     "output_type": "execute_result"
    }
   ],
   "source": [
    "correlation= train.corr()\n",
    "correlation=correlation['SalePrice'].sort_values(ascending=False)\n",
    "pos_correlation=correlation.head(25)\n",
    "pos_correlation"
   ]
  },
  {
   "cell_type": "markdown",
   "metadata": {
    "_uuid": "3df8c81f588812dc6a756cd01d90783c209d1ad9"
   },
   "source": [
    "#### Visualizing some highly correlated features to get better understanding."
   ]
  },
  {
   "cell_type": "code",
   "execution_count": 7,
   "metadata": {},
   "outputs": [
    {
     "data": {
      "text/plain": [
       "<matplotlib.axes._subplots.AxesSubplot at 0x1d23b3bcd30>"
      ]
     },
     "execution_count": 7,
     "metadata": {},
     "output_type": "execute_result"
    },
    {
     "data": {
      "image/png": "[encoded data removed]",
      "text/plain": [
       "<Figure size 576x360 with 1 Axes>"
      ]
     },
     "metadata": {},
     "output_type": "display_data"
    }
   ],
   "source": [
    "plt.figure(figsize=[8,5])\n",
    "sns.regplot(train['OverallQual'], train['SalePrice'])"
   ]
  },
  {
   "cell_type": "code",
   "execution_count": 9,
   "metadata": {},
   "outputs": [
    {
     "data": {
      "text/plain": [
       "<matplotlib.axes._subplots.AxesSubplot at 0x1d23b571518>"
      ]
     },
     "execution_count": 9,
     "metadata": {},
     "output_type": "execute_result"
    },
    {
     "data": {
      "image/png": "[encoded data removed]",
      "text/plain": [
       "<Figure size 576x360 with 1 Axes>"
      ]
     },
     "metadata": {},
     "output_type": "display_data"
    }
   ],
   "source": [
    "plt.figure(figsize=[8,5])\n",
    "sns.regplot(train['GrLivArea'], train['SalePrice'])"
   ]
  },
  {
   "cell_type": "code",
   "execution_count": 10,
   "metadata": {},
   "outputs": [
    {
     "data": {
      "text/plain": [
       "<matplotlib.axes._subplots.AxesSubplot at 0x1d23b7aa940>"
      ]
     },
     "execution_count": 10,
     "metadata": {},
     "output_type": "execute_result"
    },
    {
     "data": {
      "image/png": "[encoded data removed]",
      "text/plain": [
       "<Figure size 576x360 with 1 Axes>"
      ]
     },
     "metadata": {},
     "output_type": "display_data"
    }
   ],
   "source": [
    "plt.figure(figsize=[8,5])\n",
    "sns.regplot(train['GarageArea'], train['SalePrice'])"
   ]
  },
  {
   "cell_type": "code",
   "execution_count": 11,
   "metadata": {},
   "outputs": [
    {
     "data": {
      "text/plain": [
       "<matplotlib.axes._subplots.AxesSubplot at 0x1d23b81c940>"
      ]
     },
     "execution_count": 11,
     "metadata": {},
     "output_type": "execute_result"
    },
    {
     "data": {
      "image/png": "[encoded data removed]",
      "text/plain": [
       "<Figure size 576x360 with 1 Axes>"
      ]
     },
     "metadata": {},
     "output_type": "display_data"
    }
   ],
   "source": [
    "plt.figure(figsize=[8,5])\n",
    "sns.regplot(train['TotalBsmtSF'], train['SalePrice'])"
   ]
  },
  {
   "cell_type": "markdown",
   "metadata": {
    "_uuid": "a09b3e781865d3fd82d42ebf287da853f4d7cf6f"
   },
   "source": [
    "## 2. Dealing with Outliers\n",
    "\n",
    "### We got some outliers. Let's get rid of these outliers!"
   ]
  },
  {
   "cell_type": "code",
   "execution_count": 51,
   "metadata": {
    "_uuid": "34d791a285a0f8d1e3d169b06c779b0dbd9b8fc2"
   },
   "outputs": [
    {
     "name": "stdout",
     "output_type": "stream",
     "text": [
      "Before: (1460, 81)\n",
      "After: (1456, 81)\n"
     ]
    }
   ],
   "source": [
    "print(\"Before:\",train.shape)\n",
    "\n",
    "train.drop(train[(train['OverallQual']<5) & (train['SalePrice']>200000)].index, inplace=True)\n",
    "train.drop(train[(train['GrLivArea']>4000) & (train['SalePrice']<300000)].index, inplace=True)\n",
    "train.drop(train[(train['GarageArea']>1200) & (train['SalePrice']<100000)].index, inplace=True)\n",
    "train.drop(train[(train['TotalBsmtSF']>6000) & (train['SalePrice']<200000)].index, inplace=True)\n",
    "train.reset_index(drop=True, inplace=True)\n",
    "\n",
    "print(\"After:\",train.shape)"
   ]
  },
  {
   "cell_type": "markdown",
   "metadata": {
    "_uuid": "cd55efe655fdcbd0e5943264cc61fb73b6deb7a8"
   },
   "source": [
    " ### Drop features having weak relationship with SalePrice. We don't need them!"
   ]
  },
  {
   "cell_type": "code",
   "execution_count": 52,
   "metadata": {
    "_uuid": "8321c2598387bbc8e0f19639ad4c1710ba2eaa07"
   },
   "outputs": [
    {
     "data": {
      "text/plain": [
       "Index(['BedroomAbvGr', 'ScreenPorch', 'PoolArea', 'MoSold', '3SsnPorch',\n",
       "       'BsmtFinSF2', 'BsmtHalfBath', 'MiscVal', 'Id', 'LowQualFinSF', 'YrSold',\n",
       "       'OverallCond', 'MSSubClass', 'EnclosedPorch', 'KitchenAbvGr'],\n",
       "      dtype='object')"
      ]
     },
     "execution_count": 52,
     "metadata": {},
     "output_type": "execute_result"
    }
   ],
   "source": [
    "weak= correlation[correlation<0.2].keys()\n",
    "weak"
   ]
  },
  {
   "cell_type": "code",
   "execution_count": 53,
   "metadata": {
    "_uuid": "ef0a17f1fc39459f0e03df5867401a6d9eeaa1ae"
   },
   "outputs": [],
   "source": [
    "weak=['BedroomAbvGr', 'ScreenPorch', 'PoolArea', 'MoSold', '3SsnPorch',\n",
    "       'BsmtFinSF2', 'BsmtHalfBath', 'MiscVal', 'LowQualFinSF', 'YrSold',\n",
    "       'OverallCond', 'MSSubClass', 'EnclosedPorch', 'KitchenAbvGr']"
   ]
  },
  {
   "cell_type": "code",
   "execution_count": 54,
   "metadata": {
    "_uuid": "d8e647cc525a9ee0c612cc5a6fb1fe87679ae4c0"
   },
   "outputs": [
    {
     "name": "stdout",
     "output_type": "stream",
     "text": [
      "Brfore: (1456, 81)\n",
      "Brfore: (1456, 67)\n"
     ]
    }
   ],
   "source": [
    "print(\"Brfore:\", train.shape)\n",
    "train.drop(weak, axis=1, inplace=True)\n",
    "test.drop(weak, axis=1, inplace=True)\n",
    "print(\"Brfore:\", train.shape)"
   ]
  },
  {
   "cell_type": "markdown",
   "metadata": {
    "_uuid": "26a4844631e0a6b63d0d40491b703659571c0d32"
   },
   "source": [
    "## 3. Feature Engineering and Data Cleaning\n",
    "\n",
    "### Let's move to handle missing values"
   ]
  },
  {
   "cell_type": "code",
   "execution_count": 55,
   "metadata": {
    "_uuid": "434e2b745b6e202ba85e6afbfdf4a9a201be16a4"
   },
   "outputs": [],
   "source": [
    "data= pd.concat([train.drop(['SalePrice'], axis=1), test])"
   ]
  },
  {
   "cell_type": "code",
   "execution_count": 22,
   "metadata": {
    "_uuid": "858b4b600c5c9d46bf82d78a925fb2265823adc6"
   },
   "outputs": [
    {
     "data": {
      "text/plain": [
       "<matplotlib.axes._subplots.AxesSubplot at 0x1d23b7ffba8>"
      ]
     },
     "execution_count": 22,
     "metadata": {},
     "output_type": "execute_result"
    },
    {
     "data": {
      "image/png": "[encoded data removed]",
      "text/plain": [
       "<Figure size 1080x432 with 1 Axes>"
      ]
     },
     "metadata": {},
     "output_type": "display_data"
    }
   ],
   "source": [
    "xx= (data.isnull().sum())/len(data)*100\n",
    "xx=xx.sort_values(ascending=False).head(30)\n",
    "\n",
    "plt.figure(figsize=(15, 6))\n",
    "plt.title(\"Features having missing values\")\n",
    "plt.xticks(rotation=\"90\")\n",
    "sns.barplot(xx.keys(), xx)"
   ]
  },
  {
   "cell_type": "markdown",
   "metadata": {
    "_uuid": "b13d0ac8dcd8f471a5a37c38993b1f4da3448826"
   },
   "source": [
    "### Get percentage of these missing values in features"
   ]
  },
  {
   "cell_type": "code",
   "execution_count": 23,
   "metadata": {
    "_uuid": "6737e5d7b16b7b958d43e72827ee904698974bf6"
   },
   "outputs": [
    {
     "data": {
      "text/html": [
       "<div>\n",
       "<style scoped>\n",
       "    .dataframe tbody tr th:only-of-type {\n",
       "        vertical-align: middle;\n",
       "    }\n",
       "\n",
       "    .dataframe tbody tr th {\n",
       "        vertical-align: top;\n",
       "    }\n",
       "\n",
       "    .dataframe thead th {\n",
       "        text-align: right;\n",
       "    }\n",
       "</style>\n",
       "<table border=\"1\" class=\"dataframe\">\n",
       "  <thead>\n",
       "    <tr style=\"text-align: right;\">\n",
       "      <th></th>\n",
       "      <th>Total missing count</th>\n",
       "      <th>Percentage</th>\n",
       "    </tr>\n",
       "  </thead>\n",
       "  <tbody>\n",
       "    <tr>\n",
       "      <th>PoolQC</th>\n",
       "      <td>2906</td>\n",
       "      <td>99.691252</td>\n",
       "    </tr>\n",
       "    <tr>\n",
       "      <th>MiscFeature</th>\n",
       "      <td>2811</td>\n",
       "      <td>96.432247</td>\n",
       "    </tr>\n",
       "    <tr>\n",
       "      <th>Alley</th>\n",
       "      <td>2717</td>\n",
       "      <td>93.207547</td>\n",
       "    </tr>\n",
       "    <tr>\n",
       "      <th>Fence</th>\n",
       "      <td>2344</td>\n",
       "      <td>80.411664</td>\n",
       "    </tr>\n",
       "    <tr>\n",
       "      <th>FireplaceQu</th>\n",
       "      <td>1419</td>\n",
       "      <td>48.679245</td>\n",
       "    </tr>\n",
       "    <tr>\n",
       "      <th>LotFrontage</th>\n",
       "      <td>485</td>\n",
       "      <td>16.638079</td>\n",
       "    </tr>\n",
       "    <tr>\n",
       "      <th>GarageYrBlt</th>\n",
       "      <td>159</td>\n",
       "      <td>5.454545</td>\n",
       "    </tr>\n",
       "    <tr>\n",
       "      <th>GarageCond</th>\n",
       "      <td>159</td>\n",
       "      <td>5.454545</td>\n",
       "    </tr>\n",
       "    <tr>\n",
       "      <th>GarageQual</th>\n",
       "      <td>159</td>\n",
       "      <td>5.454545</td>\n",
       "    </tr>\n",
       "    <tr>\n",
       "      <th>GarageFinish</th>\n",
       "      <td>159</td>\n",
       "      <td>5.454545</td>\n",
       "    </tr>\n",
       "    <tr>\n",
       "      <th>GarageType</th>\n",
       "      <td>157</td>\n",
       "      <td>5.385935</td>\n",
       "    </tr>\n",
       "    <tr>\n",
       "      <th>BsmtExposure</th>\n",
       "      <td>82</td>\n",
       "      <td>2.813036</td>\n",
       "    </tr>\n",
       "    <tr>\n",
       "      <th>BsmtCond</th>\n",
       "      <td>82</td>\n",
       "      <td>2.813036</td>\n",
       "    </tr>\n",
       "    <tr>\n",
       "      <th>BsmtQual</th>\n",
       "      <td>81</td>\n",
       "      <td>2.778731</td>\n",
       "    </tr>\n",
       "    <tr>\n",
       "      <th>BsmtFinType2</th>\n",
       "      <td>80</td>\n",
       "      <td>2.744425</td>\n",
       "    </tr>\n",
       "    <tr>\n",
       "      <th>BsmtFinType1</th>\n",
       "      <td>79</td>\n",
       "      <td>2.710120</td>\n",
       "    </tr>\n",
       "    <tr>\n",
       "      <th>MasVnrType</th>\n",
       "      <td>24</td>\n",
       "      <td>0.823328</td>\n",
       "    </tr>\n",
       "    <tr>\n",
       "      <th>MasVnrArea</th>\n",
       "      <td>23</td>\n",
       "      <td>0.789022</td>\n",
       "    </tr>\n",
       "    <tr>\n",
       "      <th>MSZoning</th>\n",
       "      <td>4</td>\n",
       "      <td>0.137221</td>\n",
       "    </tr>\n",
       "    <tr>\n",
       "      <th>BsmtFullBath</th>\n",
       "      <td>2</td>\n",
       "      <td>0.068611</td>\n",
       "    </tr>\n",
       "    <tr>\n",
       "      <th>Utilities</th>\n",
       "      <td>2</td>\n",
       "      <td>0.068611</td>\n",
       "    </tr>\n",
       "    <tr>\n",
       "      <th>Functional</th>\n",
       "      <td>2</td>\n",
       "      <td>0.068611</td>\n",
       "    </tr>\n",
       "    <tr>\n",
       "      <th>TotalBsmtSF</th>\n",
       "      <td>1</td>\n",
       "      <td>0.034305</td>\n",
       "    </tr>\n",
       "    <tr>\n",
       "      <th>Exterior2nd</th>\n",
       "      <td>1</td>\n",
       "      <td>0.034305</td>\n",
       "    </tr>\n",
       "    <tr>\n",
       "      <th>SaleType</th>\n",
       "      <td>1</td>\n",
       "      <td>0.034305</td>\n",
       "    </tr>\n",
       "    <tr>\n",
       "      <th>Exterior1st</th>\n",
       "      <td>1</td>\n",
       "      <td>0.034305</td>\n",
       "    </tr>\n",
       "    <tr>\n",
       "      <th>BsmtUnfSF</th>\n",
       "      <td>1</td>\n",
       "      <td>0.034305</td>\n",
       "    </tr>\n",
       "    <tr>\n",
       "      <th>BsmtFinSF1</th>\n",
       "      <td>1</td>\n",
       "      <td>0.034305</td>\n",
       "    </tr>\n",
       "    <tr>\n",
       "      <th>KitchenQual</th>\n",
       "      <td>1</td>\n",
       "      <td>0.034305</td>\n",
       "    </tr>\n",
       "    <tr>\n",
       "      <th>Electrical</th>\n",
       "      <td>1</td>\n",
       "      <td>0.034305</td>\n",
       "    </tr>\n",
       "  </tbody>\n",
       "</table>\n",
       "</div>"
      ],
      "text/plain": [
       "              Total missing count  Percentage \n",
       "PoolQC                       2906    99.691252\n",
       "MiscFeature                  2811    96.432247\n",
       "Alley                        2717    93.207547\n",
       "Fence                        2344    80.411664\n",
       "FireplaceQu                  1419    48.679245\n",
       "LotFrontage                   485    16.638079\n",
       "GarageYrBlt                   159     5.454545\n",
       "GarageCond                    159     5.454545\n",
       "GarageQual                    159     5.454545\n",
       "GarageFinish                  159     5.454545\n",
       "GarageType                    157     5.385935\n",
       "BsmtExposure                   82     2.813036\n",
       "BsmtCond                       82     2.813036\n",
       "BsmtQual                       81     2.778731\n",
       "BsmtFinType2                   80     2.744425\n",
       "BsmtFinType1                   79     2.710120\n",
       "MasVnrType                     24     0.823328\n",
       "MasVnrArea                     23     0.789022\n",
       "MSZoning                        4     0.137221\n",
       "BsmtFullBath                    2     0.068611\n",
       "Utilities                       2     0.068611\n",
       "Functional                      2     0.068611\n",
       "TotalBsmtSF                     1     0.034305\n",
       "Exterior2nd                     1     0.034305\n",
       "SaleType                        1     0.034305\n",
       "Exterior1st                     1     0.034305\n",
       "BsmtUnfSF                       1     0.034305\n",
       "BsmtFinSF1                      1     0.034305\n",
       "KitchenQual                     1     0.034305\n",
       "Electrical                      1     0.034305"
      ]
     },
     "execution_count": 23,
     "metadata": {},
     "output_type": "execute_result"
    }
   ],
   "source": [
    "total=data.isnull().sum().sort_values(ascending=False)\n",
    "percent=((data.isnull().sum()/data.isnull().count())*100).sort_values(ascending=False)\n",
    "missing= pd.concat([total,percent], axis=1, join='outer', keys=['Total missing count', 'Percentage '])\n",
    "missing.head(30)"
   ]
  },
  {
   "cell_type": "markdown",
   "metadata": {
    "_uuid": "c86e49d7b4379824aa2d133f2e0bbf7475b15099"
   },
   "source": [
    "### Updating FireplaceQu"
   ]
  },
  {
   "cell_type": "code",
   "execution_count": 18,
   "metadata": {
    "_uuid": "1b09ea670a151e999bb429b20aebfac279c72359"
   },
   "outputs": [
    {
     "data": {
      "text/plain": [
       "array([nan, 'TA', 'Gd', 'Fa', 'Ex', 'Po'], dtype=object)"
      ]
     },
     "execution_count": 18,
     "metadata": {},
     "output_type": "execute_result"
    }
   ],
   "source": [
    "data['FireplaceQu'].unique()"
   ]
  },
  {
   "cell_type": "markdown",
   "metadata": {
    "_uuid": "4f73167801e92db15f50d0da60850b4a93ecdb91"
   },
   "source": [
    " `nan` means `not a number`\n",
    "\n",
    "nan FireplaceQu means no Fireplaces at all, let's fill it with 'None'"
   ]
  },
  {
   "cell_type": "code",
   "execution_count": 68,
   "metadata": {
    "_uuid": "414097ad9070d4a76387a4047ae27ef81465e5bd"
   },
   "outputs": [],
   "source": [
    "train['FireplaceQu'].fillna('None', inplace=True)\n",
    "test['FireplaceQu'].fillna('None', inplace=True)"
   ]
  },
  {
   "cell_type": "markdown",
   "metadata": {
    "_uuid": "d5a2648ed48052c8d5b17e1693c0c4ca5ce6113b"
   },
   "source": [
    "### Updating LotFrontage"
   ]
  },
  {
   "cell_type": "code",
   "execution_count": 20,
   "metadata": {
    "_uuid": "75171b31ed850b016b816d313497eda2dd5b5c29"
   },
   "outputs": [
    {
     "data": {
      "text/plain": [
       "count    2428.000000\n",
       "mean       69.060544\n",
       "std        22.237973\n",
       "min        21.000000\n",
       "25%        59.000000\n",
       "50%        68.000000\n",
       "75%        80.000000\n",
       "max       200.000000\n",
       "Name: LotFrontage, dtype: float64"
      ]
     },
     "execution_count": 20,
     "metadata": {},
     "output_type": "execute_result"
    }
   ],
   "source": [
    "data['LotFrontage'].describe()"
   ]
  },
  {
   "cell_type": "markdown",
   "metadata": {
    "_uuid": "a5345879df4b8c8a450c72fa6c62ba9f9ad8262b"
   },
   "source": [
    "Fill them with mean."
   ]
  },
  {
   "cell_type": "code",
   "execution_count": 67,
   "metadata": {
    "_uuid": "56a02d2e13675d194c4c372aa38b38477b2f1338"
   },
   "outputs": [],
   "source": [
    "train['LotFrontage'].fillna(69, inplace=True)\n",
    "test['LotFrontage'].fillna(69, inplace=True)"
   ]
  },
  {
   "cell_type": "markdown",
   "metadata": {
    "_uuid": "27c5f18a6a019f64c425890f6a9bc3aeeef45ec6"
   },
   "source": [
    "### Updating Garage features\n"
   ]
  },
  {
   "cell_type": "markdown",
   "metadata": {
    "_uuid": "78fbf11a86947b4a36291eb6d18a4bd113949722"
   },
   "source": [
    "Fill all missing values of Garage features with 'None' as they have no Garage."
   ]
  },
  {
   "cell_type": "code",
   "execution_count": 66,
   "metadata": {
    "_uuid": "d352c03a4c5a2d57ccb1039898a2e795c9ec3d36"
   },
   "outputs": [],
   "source": [
    "train['GarageQual'].fillna('None', inplace=True)\n",
    "test['GarageQual'].fillna('None', inplace=True)\n",
    "train['GarageFinish'].fillna('None', inplace=True)\n",
    "test['GarageFinish'].fillna('None', inplace=True)\n",
    "train['GarageYrBlt'].fillna('None', inplace=True)\n",
    "test['GarageYrBlt'].fillna('None', inplace=True)\n",
    "train['GarageType'].fillna('None', inplace=True)\n",
    "test['GarageType'].fillna('None', inplace=True)\n",
    "train['GarageCond'].fillna('None', inplace=True)\n",
    "test['GarageCond'].fillna('None', inplace=True)\n",
    "test.loc[test['Id']==2577, 'GarageType']='None'"
   ]
  },
  {
   "cell_type": "markdown",
   "metadata": {
    "_cell_guid": "79c7e3d0-c299-4dcb-8224-4455121ee9b0",
    "_uuid": "d629ff2d2480ee46fbb7e2d37f6b5fab8052498a",
    "collapsed": true
   },
   "source": [
    "### Updating Basement features\n",
    "\n",
    "Let's first have a look at BsmtCond. There are some rows having Basement but no Basement condition. Let's dig out more."
   ]
  },
  {
   "cell_type": "code",
   "execution_count": 24,
   "metadata": {
    "_uuid": "1abf3a5f04b9532c2e33dfd1fc95b3d489aa4819"
   },
   "outputs": [
    {
     "data": {
      "text/html": [
       "<div>\n",
       "<style scoped>\n",
       "    .dataframe tbody tr th:only-of-type {\n",
       "        vertical-align: middle;\n",
       "    }\n",
       "\n",
       "    .dataframe tbody tr th {\n",
       "        vertical-align: top;\n",
       "    }\n",
       "\n",
       "    .dataframe thead th {\n",
       "        text-align: right;\n",
       "    }\n",
       "</style>\n",
       "<table border=\"1\" class=\"dataframe\">\n",
       "  <thead>\n",
       "    <tr style=\"text-align: right;\">\n",
       "      <th></th>\n",
       "      <th>Id</th>\n",
       "      <th>TotalBsmtSF</th>\n",
       "      <th>BsmtCond</th>\n",
       "      <th>BsmtQual</th>\n",
       "      <th>BsmtExposure</th>\n",
       "      <th>BsmtFinType1</th>\n",
       "      <th>BsmtFinSF1</th>\n",
       "      <th>BsmtUnfSF</th>\n",
       "    </tr>\n",
       "  </thead>\n",
       "  <tbody>\n",
       "    <tr>\n",
       "      <th>580</th>\n",
       "      <td>2041</td>\n",
       "      <td>1426.0</td>\n",
       "      <td>NaN</td>\n",
       "      <td>Gd</td>\n",
       "      <td>Mn</td>\n",
       "      <td>GLQ</td>\n",
       "      <td>1044.0</td>\n",
       "      <td>0.0</td>\n",
       "    </tr>\n",
       "    <tr>\n",
       "      <th>660</th>\n",
       "      <td>2121</td>\n",
       "      <td>NaN</td>\n",
       "      <td>NaN</td>\n",
       "      <td>NaN</td>\n",
       "      <td>NaN</td>\n",
       "      <td>NaN</td>\n",
       "      <td>NaN</td>\n",
       "      <td>NaN</td>\n",
       "    </tr>\n",
       "    <tr>\n",
       "      <th>725</th>\n",
       "      <td>2186</td>\n",
       "      <td>1127.0</td>\n",
       "      <td>NaN</td>\n",
       "      <td>TA</td>\n",
       "      <td>No</td>\n",
       "      <td>BLQ</td>\n",
       "      <td>1033.0</td>\n",
       "      <td>94.0</td>\n",
       "    </tr>\n",
       "    <tr>\n",
       "      <th>1064</th>\n",
       "      <td>2525</td>\n",
       "      <td>995.0</td>\n",
       "      <td>NaN</td>\n",
       "      <td>TA</td>\n",
       "      <td>Av</td>\n",
       "      <td>ALQ</td>\n",
       "      <td>755.0</td>\n",
       "      <td>240.0</td>\n",
       "    </tr>\n",
       "  </tbody>\n",
       "</table>\n",
       "</div>"
      ],
      "text/plain": [
       "        Id  TotalBsmtSF BsmtCond    ...    BsmtFinType1 BsmtFinSF1 BsmtUnfSF\n",
       "580   2041       1426.0      NaN    ...             GLQ     1044.0       0.0\n",
       "660   2121          NaN      NaN    ...             NaN        NaN       NaN\n",
       "725   2186       1127.0      NaN    ...             BLQ     1033.0      94.0\n",
       "1064  2525        995.0      NaN    ...             ALQ      755.0     240.0\n",
       "\n",
       "[4 rows x 8 columns]"
      ]
     },
     "execution_count": 24,
     "metadata": {},
     "output_type": "execute_result"
    }
   ],
   "source": [
    "data[(data['TotalBsmtSF']!=0) & (data['BsmtCond'].isnull()==True)][['Id','TotalBsmtSF','BsmtCond','BsmtQual','BsmtExposure',\n",
    "                                                                    'BsmtFinType1','BsmtFinSF1','BsmtUnfSF']]"
   ]
  },
  {
   "cell_type": "markdown",
   "metadata": {
    "_uuid": "eda51947a6582205240a9e53cd756b1e46973629"
   },
   "source": [
    "Fill these BsmtCond null values with BsmtQual and others with None as they have no Basement at all."
   ]
  },
  {
   "cell_type": "code",
   "execution_count": 65,
   "metadata": {
    "_uuid": "e53d7fdd429de4abe309b4f16bb67feaaeb87c3e"
   },
   "outputs": [],
   "source": [
    "test.loc[test['Id']==2041, 'BsmtCond']='Gd'\n",
    "test.loc[test['Id']==2186, 'BsmtCond']='TA'\n",
    "test.loc[test['Id']==2525, 'BsmtCond']='TA'\n",
    "train['BsmtCond'].fillna('None', inplace=True)\n",
    "test['BsmtCond'].fillna('None', inplace=True)"
   ]
  },
  {
   "cell_type": "code",
   "execution_count": 26,
   "metadata": {
    "_uuid": "608ef7e1f692667d61ffd515cac60dc2a9f4c57e"
   },
   "outputs": [
    {
     "data": {
      "text/html": [
       "<div>\n",
       "<style scoped>\n",
       "    .dataframe tbody tr th:only-of-type {\n",
       "        vertical-align: middle;\n",
       "    }\n",
       "\n",
       "    .dataframe tbody tr th {\n",
       "        vertical-align: top;\n",
       "    }\n",
       "\n",
       "    .dataframe thead th {\n",
       "        text-align: right;\n",
       "    }\n",
       "</style>\n",
       "<table border=\"1\" class=\"dataframe\">\n",
       "  <thead>\n",
       "    <tr style=\"text-align: right;\">\n",
       "      <th></th>\n",
       "      <th>Id</th>\n",
       "      <th>TotalBsmtSF</th>\n",
       "      <th>BsmtCond</th>\n",
       "      <th>BsmtQual</th>\n",
       "      <th>BsmtExposure</th>\n",
       "      <th>BsmtFinType1</th>\n",
       "      <th>BsmtFinSF1</th>\n",
       "      <th>BsmtUnfSF</th>\n",
       "    </tr>\n",
       "  </thead>\n",
       "  <tbody>\n",
       "    <tr>\n",
       "      <th>944</th>\n",
       "      <td>949</td>\n",
       "      <td>936.0</td>\n",
       "      <td>TA</td>\n",
       "      <td>Gd</td>\n",
       "      <td>NaN</td>\n",
       "      <td>Unf</td>\n",
       "      <td>0.0</td>\n",
       "      <td>936.0</td>\n",
       "    </tr>\n",
       "    <tr>\n",
       "      <th>27</th>\n",
       "      <td>1488</td>\n",
       "      <td>1595.0</td>\n",
       "      <td>TA</td>\n",
       "      <td>Gd</td>\n",
       "      <td>NaN</td>\n",
       "      <td>Unf</td>\n",
       "      <td>0.0</td>\n",
       "      <td>1595.0</td>\n",
       "    </tr>\n",
       "    <tr>\n",
       "      <th>660</th>\n",
       "      <td>2121</td>\n",
       "      <td>NaN</td>\n",
       "      <td>NaN</td>\n",
       "      <td>NaN</td>\n",
       "      <td>NaN</td>\n",
       "      <td>NaN</td>\n",
       "      <td>NaN</td>\n",
       "      <td>NaN</td>\n",
       "    </tr>\n",
       "    <tr>\n",
       "      <th>888</th>\n",
       "      <td>2349</td>\n",
       "      <td>725.0</td>\n",
       "      <td>TA</td>\n",
       "      <td>Gd</td>\n",
       "      <td>NaN</td>\n",
       "      <td>Unf</td>\n",
       "      <td>0.0</td>\n",
       "      <td>725.0</td>\n",
       "    </tr>\n",
       "  </tbody>\n",
       "</table>\n",
       "</div>"
      ],
      "text/plain": [
       "       Id  TotalBsmtSF BsmtCond    ...    BsmtFinType1 BsmtFinSF1 BsmtUnfSF\n",
       "944   949        936.0       TA    ...             Unf        0.0     936.0\n",
       "27   1488       1595.0       TA    ...             Unf        0.0    1595.0\n",
       "660  2121          NaN      NaN    ...             NaN        NaN       NaN\n",
       "888  2349        725.0       TA    ...             Unf        0.0     725.0\n",
       "\n",
       "[4 rows x 8 columns]"
      ]
     },
     "execution_count": 26,
     "metadata": {},
     "output_type": "execute_result"
    }
   ],
   "source": [
    "data[(data['TotalBsmtSF']!=0) & (data['BsmtExposure'].isnull()==True)][['Id','TotalBsmtSF','BsmtCond','BsmtQual','BsmtExposure',\n",
    "                                                                    'BsmtFinType1','BsmtFinSF1','BsmtUnfSF']]"
   ]
  },
  {
   "cell_type": "markdown",
   "metadata": {
    "_uuid": "e632bb16a22261de488a525a221f0bb2fd026a13"
   },
   "source": [
    "Fill these BsmtExposure null values with values of BsmtQual and other with None."
   ]
  },
  {
   "cell_type": "code",
   "execution_count": 64,
   "metadata": {
    "_uuid": "6d94f2675a53082644324ae7ad8835e75660a7be"
   },
   "outputs": [],
   "source": [
    "train.loc[train['Id']==949, 'BsmtExposure']='Gd'\n",
    "test.loc[test['Id']==1488, 'BsmtExposure']='Gd'\n",
    "test.loc[test['Id']==2349, 'BsmtExposure']='Gd'\n",
    "train['BsmtExposure'].fillna('None', inplace=True)\n",
    "test['BsmtExposure'].fillna('None', inplace=True)"
   ]
  },
  {
   "cell_type": "code",
   "execution_count": 28,
   "metadata": {
    "_uuid": "ba143755e7a4f495738cdcdfdf1ad5715f040f7a"
   },
   "outputs": [
    {
     "data": {
      "text/html": [
       "<div>\n",
       "<style scoped>\n",
       "    .dataframe tbody tr th:only-of-type {\n",
       "        vertical-align: middle;\n",
       "    }\n",
       "\n",
       "    .dataframe tbody tr th {\n",
       "        vertical-align: top;\n",
       "    }\n",
       "\n",
       "    .dataframe thead th {\n",
       "        text-align: right;\n",
       "    }\n",
       "</style>\n",
       "<table border=\"1\" class=\"dataframe\">\n",
       "  <thead>\n",
       "    <tr style=\"text-align: right;\">\n",
       "      <th></th>\n",
       "      <th>Id</th>\n",
       "      <th>TotalBsmtSF</th>\n",
       "      <th>BsmtQual</th>\n",
       "      <th>BsmtCond</th>\n",
       "      <th>BsmtExposure</th>\n",
       "      <th>BsmtFinType1</th>\n",
       "      <th>BsmtFinSF1</th>\n",
       "      <th>BsmtUnfSF</th>\n",
       "    </tr>\n",
       "  </thead>\n",
       "  <tbody>\n",
       "    <tr>\n",
       "      <th>660</th>\n",
       "      <td>2121</td>\n",
       "      <td>NaN</td>\n",
       "      <td>NaN</td>\n",
       "      <td>NaN</td>\n",
       "      <td>NaN</td>\n",
       "      <td>NaN</td>\n",
       "      <td>NaN</td>\n",
       "      <td>NaN</td>\n",
       "    </tr>\n",
       "    <tr>\n",
       "      <th>757</th>\n",
       "      <td>2218</td>\n",
       "      <td>173.0</td>\n",
       "      <td>NaN</td>\n",
       "      <td>Fa</td>\n",
       "      <td>No</td>\n",
       "      <td>Unf</td>\n",
       "      <td>0.0</td>\n",
       "      <td>173.0</td>\n",
       "    </tr>\n",
       "    <tr>\n",
       "      <th>758</th>\n",
       "      <td>2219</td>\n",
       "      <td>356.0</td>\n",
       "      <td>NaN</td>\n",
       "      <td>TA</td>\n",
       "      <td>No</td>\n",
       "      <td>Unf</td>\n",
       "      <td>0.0</td>\n",
       "      <td>356.0</td>\n",
       "    </tr>\n",
       "  </tbody>\n",
       "</table>\n",
       "</div>"
      ],
      "text/plain": [
       "       Id  TotalBsmtSF BsmtQual    ...    BsmtFinType1 BsmtFinSF1 BsmtUnfSF\n",
       "660  2121          NaN      NaN    ...             NaN        NaN       NaN\n",
       "757  2218        173.0      NaN    ...             Unf        0.0     173.0\n",
       "758  2219        356.0      NaN    ...             Unf        0.0     356.0\n",
       "\n",
       "[3 rows x 8 columns]"
      ]
     },
     "execution_count": 28,
     "metadata": {},
     "output_type": "execute_result"
    }
   ],
   "source": [
    "data[(data['TotalBsmtSF']!=0) & (data['BsmtQual'].isnull()==True)][['Id','TotalBsmtSF','BsmtQual','BsmtCond','BsmtExposure',\n",
    "                                                                    'BsmtFinType1','BsmtFinSF1','BsmtUnfSF']]"
   ]
  },
  {
   "cell_type": "markdown",
   "metadata": {
    "_uuid": "438ce333b1e7e6884368a0ee9f5b3b82b914708c"
   },
   "source": [
    "Fill these BsmtQual null values with values of BsmtCond and others with None."
   ]
  },
  {
   "cell_type": "code",
   "execution_count": 63,
   "metadata": {
    "_uuid": "cefbca70eeadcbbb76789af3364cf21890c4ac31"
   },
   "outputs": [],
   "source": [
    "test.loc[test['Id']==2218, 'BsmtQual']='Fa'\n",
    "test.loc[test['Id']==2219, 'BsmtQual']='TA'\n",
    "train['BsmtQual'].fillna('None', inplace=True)\n",
    "test['BsmtQual'].fillna('None', inplace=True)"
   ]
  },
  {
   "cell_type": "code",
   "execution_count": 30,
   "metadata": {
    "_uuid": "3939969aede0c2da0a9fc9c8f5c83d1f70ec1b2a"
   },
   "outputs": [
    {
     "data": {
      "text/html": [
       "<div>\n",
       "<style scoped>\n",
       "    .dataframe tbody tr th:only-of-type {\n",
       "        vertical-align: middle;\n",
       "    }\n",
       "\n",
       "    .dataframe tbody tr th {\n",
       "        vertical-align: top;\n",
       "    }\n",
       "\n",
       "    .dataframe thead th {\n",
       "        text-align: right;\n",
       "    }\n",
       "</style>\n",
       "<table border=\"1\" class=\"dataframe\">\n",
       "  <thead>\n",
       "    <tr style=\"text-align: right;\">\n",
       "      <th></th>\n",
       "      <th>Id</th>\n",
       "      <th>TotalBsmtSF</th>\n",
       "      <th>BsmtQual</th>\n",
       "      <th>BsmtCond</th>\n",
       "      <th>BsmtExposure</th>\n",
       "      <th>BsmtFinType1</th>\n",
       "      <th>BsmtFinSF1</th>\n",
       "      <th>BsmtUnfSF</th>\n",
       "    </tr>\n",
       "  </thead>\n",
       "  <tbody>\n",
       "    <tr>\n",
       "      <th>660</th>\n",
       "      <td>2121</td>\n",
       "      <td>NaN</td>\n",
       "      <td>NaN</td>\n",
       "      <td>NaN</td>\n",
       "      <td>NaN</td>\n",
       "      <td>NaN</td>\n",
       "      <td>NaN</td>\n",
       "      <td>NaN</td>\n",
       "    </tr>\n",
       "  </tbody>\n",
       "</table>\n",
       "</div>"
      ],
      "text/plain": [
       "       Id  TotalBsmtSF BsmtQual    ...    BsmtFinType1 BsmtFinSF1 BsmtUnfSF\n",
       "660  2121          NaN      NaN    ...             NaN        NaN       NaN\n",
       "\n",
       "[1 rows x 8 columns]"
      ]
     },
     "execution_count": 30,
     "metadata": {},
     "output_type": "execute_result"
    }
   ],
   "source": [
    "data[(data['TotalBsmtSF']!=0) & (data['BsmtFinType1'].isnull()==True)][['Id','TotalBsmtSF','BsmtQual','BsmtCond','BsmtExposure',\n",
    "                                                                        'BsmtFinType1','BsmtFinSF1','BsmtUnfSF']]"
   ]
  },
  {
   "cell_type": "code",
   "execution_count": 31,
   "metadata": {
    "_uuid": "653da8f5343349591dc48a8cd50db47d80bb4346"
   },
   "outputs": [
    {
     "data": {
      "text/html": [
       "<div>\n",
       "<style scoped>\n",
       "    .dataframe tbody tr th:only-of-type {\n",
       "        vertical-align: middle;\n",
       "    }\n",
       "\n",
       "    .dataframe tbody tr th {\n",
       "        vertical-align: top;\n",
       "    }\n",
       "\n",
       "    .dataframe thead th {\n",
       "        text-align: right;\n",
       "    }\n",
       "</style>\n",
       "<table border=\"1\" class=\"dataframe\">\n",
       "  <thead>\n",
       "    <tr style=\"text-align: right;\">\n",
       "      <th></th>\n",
       "      <th>Id</th>\n",
       "      <th>TotalBsmtSF</th>\n",
       "      <th>BsmtQual</th>\n",
       "      <th>BsmtCond</th>\n",
       "      <th>BsmtExposure</th>\n",
       "      <th>BsmtFullBath</th>\n",
       "    </tr>\n",
       "  </thead>\n",
       "  <tbody>\n",
       "    <tr>\n",
       "      <th>660</th>\n",
       "      <td>2121</td>\n",
       "      <td>NaN</td>\n",
       "      <td>NaN</td>\n",
       "      <td>NaN</td>\n",
       "      <td>NaN</td>\n",
       "      <td>NaN</td>\n",
       "    </tr>\n",
       "  </tbody>\n",
       "</table>\n",
       "</div>"
      ],
      "text/plain": [
       "       Id  TotalBsmtSF     ...      BsmtExposure BsmtFullBath\n",
       "660  2121          NaN     ...               NaN          NaN\n",
       "\n",
       "[1 rows x 6 columns]"
      ]
     },
     "execution_count": 31,
     "metadata": {},
     "output_type": "execute_result"
    }
   ],
   "source": [
    "data[(data['TotalBsmtSF']!=0) & (data['BsmtFullBath'].isnull()==True)][['Id','TotalBsmtSF','BsmtQual','BsmtCond',\n",
    "                                                                        'BsmtExposure','BsmtFullBath']]"
   ]
  },
  {
   "cell_type": "markdown",
   "metadata": {
    "_uuid": "e467d118f54e086537480748dfb29f06c545803f"
   },
   "source": [
    "Fill all other Basement features missing values with None or Zero."
   ]
  },
  {
   "cell_type": "code",
   "execution_count": 62,
   "metadata": {
    "_uuid": "418bd378cc936b03812e5f2e28124629e565d3c7"
   },
   "outputs": [],
   "source": [
    "train['BsmtFinType1'].fillna('None', inplace=True)\n",
    "test['BsmtFinType1'].fillna('None', inplace=True)\n",
    "test['BsmtFinSF1'].fillna(0, inplace=True)\n",
    "test['BsmtUnfSF'].fillna(0, inplace=True)\n",
    "test['TotalBsmtSF'].fillna(0, inplace=True)\n",
    "test['BsmtFullBath'].fillna(0, inplace=True)"
   ]
  },
  {
   "cell_type": "markdown",
   "metadata": {
    "_uuid": "b97c3a6bc414e4af45ecbc8c791c75849bfd2d13"
   },
   "source": [
    "### Updating MasVnrType and MasVnrArea"
   ]
  },
  {
   "cell_type": "code",
   "execution_count": 61,
   "metadata": {
    "_uuid": "15f2df86ffa9b46d95e64106b35acc7b40690c82"
   },
   "outputs": [],
   "source": [
    "train['MasVnrType'].fillna('None', inplace=True)\n",
    "test['MasVnrType'].fillna('None', inplace=True)\n",
    "train['MasVnrArea'].fillna(0, inplace=True)\n",
    "test['MasVnrArea'].fillna(0, inplace=True)"
   ]
  },
  {
   "cell_type": "markdown",
   "metadata": {
    "_uuid": "b4af72bc5d92078b864e7fe2c1aa5fd62b438e82"
   },
   "source": [
    "### Updating MSZoning"
   ]
  },
  {
   "cell_type": "code",
   "execution_count": 34,
   "metadata": {
    "_uuid": "25b2d21328fae41df9f1a3ae8a06c494349f240a"
   },
   "outputs": [
    {
     "data": {
      "text/plain": [
       "0    RL\n",
       "dtype: object"
      ]
     },
     "execution_count": 34,
     "metadata": {},
     "output_type": "execute_result"
    }
   ],
   "source": [
    "test['MSZoning'].mode()"
   ]
  },
  {
   "cell_type": "code",
   "execution_count": 60,
   "metadata": {
    "_uuid": "79290856c5ed69aa28590341ed4b53e9b3822c1d"
   },
   "outputs": [],
   "source": [
    "test['MSZoning'].fillna(\"RL\", inplace=True)"
   ]
  },
  {
   "cell_type": "markdown",
   "metadata": {
    "_uuid": "0eda86f1974ede4393f0accbddbb7f4a6b66fd02"
   },
   "source": [
    "### Updating GarageCars and GarageArea\n",
    "\n",
    "Fill them with zero"
   ]
  },
  {
   "cell_type": "code",
   "execution_count": 59,
   "metadata": {
    "_uuid": "9672fe0ac1a359b01dcd590a8655488b0adcaf90"
   },
   "outputs": [],
   "source": [
    "test['GarageCars'].fillna(0, inplace=True)\n",
    "test['GarageArea'].fillna(0, inplace=True)"
   ]
  },
  {
   "cell_type": "markdown",
   "metadata": {
    "_uuid": "541c1beb372cc4eccb763e6d35aac5dec0980990"
   },
   "source": [
    "### Updating Functional, SaleType, Exterior1st, KitchenQual, Exterior2nd\n",
    "\n",
    "Fill them with their mode"
   ]
  },
  {
   "cell_type": "code",
   "execution_count": 58,
   "metadata": {
    "_uuid": "e4f3d78f79b0502d47fba5072f664d0e65018b66"
   },
   "outputs": [],
   "source": [
    "test['Functional'].fillna('Typ', inplace=True)\n",
    "test['SaleType'].fillna('WD', inplace=True)\n",
    "test['Exterior1st'].fillna('VinylSd', inplace=True)\n",
    "test['KitchenQual'].fillna('TA', inplace=True)\n",
    "test['Exterior2nd'].fillna('VinylSd', inplace=True)"
   ]
  },
  {
   "cell_type": "markdown",
   "metadata": {},
   "source": [
    "### Drop some features having almost no impact on SalePrice."
   ]
  },
  {
   "cell_type": "code",
   "execution_count": 56,
   "metadata": {},
   "outputs": [
    {
     "name": "stdout",
     "output_type": "stream",
     "text": [
      "Before: (1456, 67) (1459, 66)\n",
      "After: (1456, 56) (1459, 55)\n"
     ]
    }
   ],
   "source": [
    "print(\"Before:\", train.shape,test.shape)\n",
    "train.drop(['Alley','Fence', 'Utilities','MiscFeature', 'Electrical','Condition1','Condition2','BsmtFinType2',\n",
    "            'Street', 'CentralAir','PoolQC'], axis=1, inplace=True)\n",
    "test.drop(['Alley','Fence', 'Utilities','MiscFeature', 'Electrical','Condition1','Condition2','BsmtFinType2',\n",
    "           'Street','CentralAir','PoolQC'], axis=1, inplace=True)\n",
    "print(\"After:\", train.shape, test.shape)"
   ]
  },
  {
   "cell_type": "markdown",
   "metadata": {
    "_uuid": "c25c0d29233f957e54c6d6750ceda97ddf421034"
   },
   "source": [
    "### Check again if we have any feature left with missing vale."
   ]
  },
  {
   "cell_type": "code",
   "execution_count": 69,
   "metadata": {
    "_uuid": "405f64bb9b02079ef9af3c4a26be5941ce3867b5"
   },
   "outputs": [
    {
     "name": "stdout",
     "output_type": "stream",
     "text": [
      "Train dataset:\n",
      " SalePrice        0\n",
      "SaleCondition    0\n",
      "BsmtExposure     0\n",
      "BsmtCond         0\n",
      "BsmtQual         0\n",
      "dtype: int64\n",
      "\n",
      "\n",
      "Test dataset:\n",
      " SaleCondition    0\n",
      "YearRemodAdd     0\n",
      "BsmtCond         0\n",
      "BsmtQual         0\n",
      "Foundation       0\n",
      "dtype: int64\n"
     ]
    }
   ],
   "source": [
    "print(\"Train dataset:\\n\",train.isnull().sum().sort_values(ascending=False).head(5))\n",
    "print(\"\\n\\nTest dataset:\\n\",test.isnull().sum().sort_values(ascending=False).head(5))"
   ]
  },
  {
   "cell_type": "markdown",
   "metadata": {
    "_uuid": "3c4327f5af53c68181e497b6976079e83bb2bf66"
   },
   "source": [
    "Data is cleaned now!"
   ]
  },
  {
   "cell_type": "code",
   "execution_count": 70,
   "metadata": {
    "_uuid": "a2f4335994a1fbfe87e2cba3d14dab410d9efea3"
   },
   "outputs": [
    {
     "data": {
      "text/plain": [
       "((1456, 56), (1459, 55))"
      ]
     },
     "execution_count": 70,
     "metadata": {},
     "output_type": "execute_result"
    }
   ],
   "source": [
    "train.shape, test.shape"
   ]
  },
  {
   "cell_type": "markdown",
   "metadata": {
    "_uuid": "2d4d2f1bb791d399ce3931606305132214a00e9d"
   },
   "source": [
    "## 4. Features Transformation"
   ]
  },
  {
   "cell_type": "markdown",
   "metadata": {
    "_uuid": "b04ed1cbd9b14a6701bf8fdbddb6fb5a4099bde3"
   },
   "source": [
    "### Apply log transformation to some features."
   ]
  },
  {
   "cell_type": "code",
   "execution_count": 71,
   "metadata": {
    "_uuid": "52964f4e71c59dd05ee027349cf481f831b0601c"
   },
   "outputs": [],
   "source": [
    "transform=['GrLivArea', 'TotalBsmtSF' ,'GarageArea', '1stFlrSF']\n",
    "\n",
    "train[transform]= np.log(train[transform]+1)\n",
    "test[transform]= np.log(test[transform]+1)"
   ]
  },
  {
   "cell_type": "markdown",
   "metadata": {
    "_uuid": "223f4adce5768c757c5ee80a9e6ac178eea0ac89"
   },
   "source": [
    "### Transform categorical features values into dummies."
   ]
  },
  {
   "cell_type": "code",
   "execution_count": 72,
   "metadata": {
    "_uuid": "0970700d87fccae470e2b64d4e38348608aa9394"
   },
   "outputs": [
    {
     "data": {
      "text/plain": [
       "((1456, 338), (1459, 338))"
      ]
     },
     "execution_count": 72,
     "metadata": {},
     "output_type": "execute_result"
    }
   ],
   "source": [
    "X_train = pd.get_dummies(pd.concat((train.drop([\"SalePrice\", \"Id\"], axis=1),\n",
    "                                          test.drop([\"Id\"], axis=1)), axis=0)).iloc[: train.shape[0]]\n",
    "\n",
    "X_test = pd.get_dummies(pd.concat((train.drop([\"SalePrice\", \"Id\"], axis=1),\n",
    "                                         test.drop([\"Id\"], axis=1)), axis=0)).iloc[train.shape[0]:]\n",
    "\n",
    "X_train.shape, X_test.shape"
   ]
  },
  {
   "cell_type": "markdown",
   "metadata": {
    "_uuid": "0fedf4dd770a46cda8f76737441ca7137440a531"
   },
   "source": [
    "### Storing Dataset's values in arrays to feed them in model"
   ]
  },
  {
   "cell_type": "code",
   "execution_count": 73,
   "metadata": {
    "_uuid": "eaf1dc2c9d8b43f94b6a8d2141003872e6f0c7a7"
   },
   "outputs": [
    {
     "name": "stdout",
     "output_type": "stream",
     "text": [
      "[12.24769912 12.10901644 12.31717117 11.84940484 12.4292202 ]\n"
     ]
    }
   ],
   "source": [
    "y=np.asarray(train['SalePrice'])\n",
    "y=np.log(y+1)  #Apply log transform on target  \n",
    "print(y[:5])"
   ]
  },
  {
   "cell_type": "code",
   "execution_count": 74,
   "metadata": {
    "_uuid": "bace27b81ab7e3ddd56c7a62a86884679478db1c"
   },
   "outputs": [
    {
     "data": {
      "text/plain": [
       "((1456, 338), (1456,))"
      ]
     },
     "execution_count": 74,
     "metadata": {},
     "output_type": "execute_result"
    }
   ],
   "source": [
    "x_train=np.asarray(X_train)\n",
    "x_test=np.asarray(X_test)\n",
    "x_train.shape,y.shape"
   ]
  },
  {
   "cell_type": "markdown",
   "metadata": {
    "_uuid": "1b69fe33d2f63dfa63e1669d4122920e2e9abdcb"
   },
   "source": [
    "### Split dataset into two halves, train data and validation data"
   ]
  },
  {
   "cell_type": "code",
   "execution_count": 75,
   "metadata": {
    "_uuid": "e12300920e8d90cc4e0b836b8bc62eadeca00acc"
   },
   "outputs": [
    {
     "data": {
      "text/plain": [
       "((1164, 338), (292, 338))"
      ]
     },
     "execution_count": 75,
     "metadata": {},
     "output_type": "execute_result"
    }
   ],
   "source": [
    "xtrain, xval, ytrain, yval= train_test_split(x_train, y, test_size=0.2, random_state=4)\n",
    "xtrain.shape, xval.shape"
   ]
  },
  {
   "cell_type": "markdown",
   "metadata": {
    "_uuid": "0ec80a5a845d4a33cbb8038cf62f025fd7a61f29"
   },
   "source": [
    "# 5. Model Building\n",
    "\n",
    "Let's build our model using:\n",
    "\n",
    "* Ridge\n",
    "* Lasso\n",
    "* Elastic Net\n",
    "\n",
    "Using **GridSearchCV** to make process of finding the best hyperparameters simpler"
   ]
  },
  {
   "cell_type": "markdown",
   "metadata": {
    "_uuid": "f8a8ec813488b73ccfed7f339f6f198fd4485586"
   },
   "source": [
    "### 1. Ridge Regression \n",
    "\n",
    "Ridge regression uses L2 penalty which means it adds penalty of `squared magnitude` of coefficients to it's `cost function`.\n",
    "\n",
    "* **alpha** is used for regularization strength\n",
    "\n",
    "* If it is zero, it works same as `LinearRegression`\n",
    "\n",
    "* Increase in alpha increases smoothness (reduces complexity by decreasing variance)\n",
    "\n",
    "* Decrease in alpha increases magnitude of coefficients (increases complexity by decreasing bias)"
   ]
  },
  {
   "cell_type": "code",
   "execution_count": 76,
   "metadata": {
    "_uuid": "b46ae6d6a82ddf6c5bf51d1240cde2127809ca9f"
   },
   "outputs": [
    {
     "name": "stdout",
     "output_type": "stream",
     "text": [
      "Best score of Ridge:  0.899\n",
      "\n",
      "It took 0.077 minutes to run.\n"
     ]
    }
   ],
   "source": [
    "ts= time.time()\n",
    "\n",
    "parameter=[{'alpha':[1,2,3,4,5,6,7,8,9,10]}]\n",
    "\n",
    "RR= Ridge()\n",
    "\n",
    "grid_RR=GridSearchCV(RR, parameter, cv=8)\n",
    "\n",
    "grid_RR.fit(xtrain, ytrain)\n",
    "\n",
    "print(\"Best score of Ridge: \",np.round(grid_RR.best_score_,4) )\n",
    "\n",
    "print(\"\\nIt took\",np.round((time.time()-ts)/60,3),\"minutes to run.\" )"
   ]
  },
  {
   "cell_type": "markdown",
   "metadata": {
    "_uuid": "b2b6f27a86445cee8c4177f794666a9492063da7"
   },
   "source": [
    "### Evaluating model on In-Sample and Out-Sample data\n",
    "\n",
    "* In-Sample data is data on which we have trained our model\n",
    "* Out-Sample data is data our model have never seen before\n",
    "* If `In-Sample score is very high and Out-Sample is very low`, it indicates that our model is suffering from `high variance` thus `overfitting`\n",
    "* If ` both In-Sample and Out-Sample score is very low`, it indicates that our model is suffering from `high bias` thus `underfitting`\n",
    "* If ` both In-Sample and Out-Sample scores are good and have slightly or no difference `, it indicates that our model is `just right`\n",
    "\n",
    "\n",
    "### Technique to tackle the problem of model's underfitting/overfitting:\n",
    "\n",
    "* If model is `high bias` increase it's complexity by adding more features or using higher order polynomials\n",
    "* If model is `high variance` decrease it's complexity by increasing `alpha` parameter"
   ]
  },
  {
   "cell_type": "markdown",
   "metadata": {
    "_uuid": "15a456b205addfeaba266d7a418ea2b7672b280d"
   },
   "source": [
    "#### Let's evaluate our model trained using Ridge Regression"
   ]
  },
  {
   "cell_type": "code",
   "execution_count": 77,
   "metadata": {
    "_uuid": "15bf097558998c972e090fb52b59e65e99f25f30"
   },
   "outputs": [
    {
     "name": "stdout",
     "output_type": "stream",
     "text": [
      "\n",
      "In-Sample Score:  0.9336\n",
      "In-Sample logloss:  0.0105\n",
      "\n",
      "Out-Sample Score:  0.9346\n",
      "Out-Sample Logloss:  0.0108\n"
     ]
    }
   ],
   "source": [
    "predict1= grid_RR.predict(xtrain)\n",
    "\n",
    "print(\"\\nIn-Sample Score: \",np.round(r2_score(ytrain, predict1),4))\n",
    "print(\"In-Sample logloss: \",np.round(mean_squared_error(ytrain, predict1),4))\n",
    "\n",
    "predict2= grid_RR.predict(xval)\n",
    "\n",
    "print(\"\\nOut-Sample Score: \",np.round(r2_score(yval, predict2),4))\n",
    "print(\"Out-Sample Logloss: \",np.round(mean_squared_error(yval, predict2),4))"
   ]
  },
  {
   "cell_type": "markdown",
   "metadata": {
    "_uuid": "070c895337db15f01d3b19a027135483daee9079"
   },
   "source": [
    "Score looks well!! And just a slightly difference in Insample and Outsample accuracy"
   ]
  },
  {
   "cell_type": "markdown",
   "metadata": {
    "_uuid": "649655338474eee7c8b718c2297a79924efb943c"
   },
   "source": [
    "### 2. Lasso Regression\n",
    "\n",
    "Lasso (Least Absolute Shrinkage and Selection Operator) uses L1 penalty which means it adds penalty of `absolute value of magnitude` of coefficients to it's `cost function`. Unlike L2, it can lead to zero coefficients. So in this case some features are completely neglected thus less prone to overfit. By assigning zero coefficients to less important features it helps in feature selection\n",
    "\n",
    "* **alpha** works same as `Ridge`\n",
    "\n",
    "* If it is zero, it works same as `LinearRegression`\n",
    "\n",
    "* Increase in alpha increases smoothness (reduces complexity by decreasing variance)\n",
    "\n",
    "* Decrease in alpha increases magnitude of coefficients (increases complexity by decreasing bias)"
   ]
  },
  {
   "cell_type": "code",
   "execution_count": 78,
   "metadata": {
    "_uuid": "b147a124c9f1ac073a445f06e0d03cbc85810dc9"
   },
   "outputs": [
    {
     "name": "stdout",
     "output_type": "stream",
     "text": [
      "Best score of Lasso:  0.902\n",
      "\n",
      "It took 0.181 minutes to run.\n"
     ]
    }
   ],
   "source": [
    "ts= time.time()\n",
    "\n",
    "parameter=[{'alpha':[0.0004, 0.0005, 0.0006, 0.0007, 0.0008, 0.0009]}]\n",
    "\n",
    "LSR = Lasso()\n",
    "\n",
    "grid_LSR=GridSearchCV(LSR, parameter, cv=8)\n",
    "\n",
    "grid_LSR.fit(xtrain, ytrain)\n",
    "\n",
    "print(\"Best score of Lasso: \",np.round(grid_LSR.best_score_,4) )\n",
    "\n",
    "print(\"\\nIt took\",np.round((time.time()-ts)/60,3),\"minutes to run.\" )"
   ]
  },
  {
   "cell_type": "markdown",
   "metadata": {
    "_uuid": "d8300f103603f5cd1d8d9324912f30192a3227d6"
   },
   "source": [
    "### Evaluation of Lasso"
   ]
  },
  {
   "cell_type": "code",
   "execution_count": 79,
   "metadata": {
    "_uuid": "822141bacd3672f27cf9dbe490b253a5125c37c9"
   },
   "outputs": [
    {
     "name": "stdout",
     "output_type": "stream",
     "text": [
      "\n",
      "In-Sample Score:  0.929\n",
      "In-Sample logloss:  0.0112\n",
      "\n",
      "Out-Sample Score:  0.9326\n",
      "Out-Sample Logloss:  0.0111\n"
     ]
    }
   ],
   "source": [
    "predict1= grid_LSR.predict(xtrain)\n",
    "\n",
    "print(\"\\nIn-Sample Score: \",np.round(r2_score(ytrain, predict1),4))\n",
    "print(\"In-Sample logloss: \",np.round(mean_squared_error(ytrain, predict1),4))\n",
    "\n",
    "predict2= grid_LSR.predict(xval)\n",
    "\n",
    "print(\"\\nOut-Sample Score: \",np.round(r2_score(yval, predict2),4))\n",
    "print(\"Out-Sample Logloss: \",np.round(mean_squared_error(yval, predict2),4))"
   ]
  },
  {
   "cell_type": "markdown",
   "metadata": {
    "_uuid": "b67faa1cba802bd9822550584f982ff1cf2f4be5"
   },
   "source": [
    "### 3. ElasticNet\n",
    "\n",
    "Elastic Net uses `both L1 and L2` penalty like it's a `combination of LASSO and Ridge`. It works well on `large datasets`\n",
    "\n",
    "* **alpha** works same as in `Ridge and Lasso` \n",
    "\n",
    "* **l1_ratio** is to control penalty \n",
    "\n",
    "* if it is `0` , it is `L2`\n",
    "\n",
    "* if it is `1`, it is `L1`\n",
    "\n",
    "* if it is `0 < l1_ratio < 1`, it is combination of `L1 and L2`"
   ]
  },
  {
   "cell_type": "code",
   "execution_count": 80,
   "metadata": {
    "_uuid": "4c6a6053cd7a9de948eb29e84058a8360e541f82"
   },
   "outputs": [
    {
     "name": "stdout",
     "output_type": "stream",
     "text": [
      "Best score of Elastic Net:  0.8808\n",
      "\n",
      "It took 0.131 minutes to run.\n"
     ]
    }
   ],
   "source": [
    "ts= time.time()\n",
    "\n",
    "parameter=[{\"alpha\": [0.001, 0.01, 0.1],\n",
    "            \"l1_ratio\": np.arange(0.0, 1.0, 0.1)}]\n",
    "\n",
    "EN = ElasticNet(max_iter=1000, tol=0.1)\n",
    "\n",
    "grid_EN=GridSearchCV(EN, parameter, cv=8)\n",
    "\n",
    "grid_EN.fit(xtrain, ytrain)\n",
    "\n",
    "print(\"Best score of Elastic Net: \",np.round(grid_EN.best_score_,4) )\n",
    "\n",
    "print(\"\\nIt took\",np.round((time.time()-ts)/60,3),\"minutes to run.\" )"
   ]
  },
  {
   "cell_type": "markdown",
   "metadata": {
    "_uuid": "32145cd2da98b39d841d1574ce0ba492ac26fe78"
   },
   "source": [
    "### Evaluation of Elastic Net"
   ]
  },
  {
   "cell_type": "code",
   "execution_count": 81,
   "metadata": {
    "_uuid": "a7c1d1a1a9cddd58e5094e18682e1e033be3d05f"
   },
   "outputs": [
    {
     "name": "stdout",
     "output_type": "stream",
     "text": [
      "\n",
      "In-Sample Score:  0.9065\n",
      "In-Sample logloss:  0.0148\n",
      "\n",
      "Out-Sample Score:  0.9093\n",
      "Out-Sample Logloss:  0.015\n"
     ]
    }
   ],
   "source": [
    "predict1= grid_EN.predict(xtrain)\n",
    "\n",
    "print(\"\\nIn-Sample Score: \",np.round(r2_score(ytrain, predict1),4))\n",
    "print(\"In-Sample logloss: \",np.round(mean_squared_error(ytrain, predict1),4))\n",
    "\n",
    "predict2= grid_EN.predict(xval)\n",
    "\n",
    "print(\"\\nOut-Sample Score: \",np.round(r2_score(yval, predict2),4))\n",
    "print(\"Out-Sample Logloss: \",np.round(mean_squared_error(yval, predict2),4))"
   ]
  },
  {
   "cell_type": "markdown",
   "metadata": {
    "_uuid": "895596ea1dd83fff4d6a43fa305466358893a08a"
   },
   "source": [
    "### `best_estimator_` to find best hyperparameters of a model"
   ]
  },
  {
   "cell_type": "code",
   "execution_count": 82,
   "metadata": {
    "_uuid": "3d1b9f87bfebcd994e2c40aef77441ca3a1d9397"
   },
   "outputs": [
    {
     "data": {
      "text/plain": [
       "Ridge(alpha=10, copy_X=True, fit_intercept=True, max_iter=None,\n",
       "   normalize=False, random_state=None, solver='auto', tol=0.001)"
      ]
     },
     "execution_count": 82,
     "metadata": {},
     "output_type": "execute_result"
    }
   ],
   "source": [
    "grid_RR.best_estimator_"
   ]
  },
  {
   "cell_type": "code",
   "execution_count": 83,
   "metadata": {
    "_uuid": "f546591cd7825a3a36939bc8626ac97b6cc6d170"
   },
   "outputs": [
    {
     "data": {
      "text/plain": [
       "Lasso(alpha=0.0005, copy_X=True, fit_intercept=True, max_iter=1000,\n",
       "   normalize=False, positive=False, precompute=False, random_state=None,\n",
       "   selection='cyclic', tol=0.0001, warm_start=False)"
      ]
     },
     "execution_count": 83,
     "metadata": {},
     "output_type": "execute_result"
    }
   ],
   "source": [
    "grid_LSR.best_estimator_"
   ]
  },
  {
   "cell_type": "code",
   "execution_count": 84,
   "metadata": {
    "_uuid": "8c5c0a52e436e81d43b15ffec972cf863d550ed7"
   },
   "outputs": [
    {
     "data": {
      "text/plain": [
       "ElasticNet(alpha=0.001, copy_X=True, fit_intercept=True, l1_ratio=0.8,\n",
       "      max_iter=1000, normalize=False, positive=False, precompute=False,\n",
       "      random_state=None, selection='cyclic', tol=0.1, warm_start=False)"
      ]
     },
     "execution_count": 84,
     "metadata": {},
     "output_type": "execute_result"
    }
   ],
   "source": [
    "grid_EN.best_estimator_"
   ]
  },
  {
   "cell_type": "markdown",
   "metadata": {
    "_uuid": "4b13011d85d1bf08f485cad6c10fc93d872f8516"
   },
   "source": [
    "### Let's train our model again using Ridge Regression on full data and make predictions on test data"
   ]
  },
  {
   "cell_type": "code",
   "execution_count": 85,
   "metadata": {
    "_uuid": "7da911630c0bd683ca92e2abc827e8c9bd072ff1"
   },
   "outputs": [
    {
     "data": {
      "text/plain": [
       "Ridge(alpha=8, copy_X=True, fit_intercept=True, max_iter=None,\n",
       "   normalize=False, random_state=None, solver='auto', tol=0.001)"
      ]
     },
     "execution_count": 85,
     "metadata": {},
     "output_type": "execute_result"
    }
   ],
   "source": [
    "RidgeRegression = Ridge(alpha=8)  #alpha=8 produced best results\n",
    "\n",
    "RidgeRegression.fit(x_train,y)"
   ]
  },
  {
   "cell_type": "code",
   "execution_count": 86,
   "metadata": {
    "_uuid": "be54fdf934b7d6beba8180e057f3d2cd77122bc1"
   },
   "outputs": [],
   "source": [
    "predict=RidgeRegression.predict(x_test)\n",
    "predict= np.exp(predict)-1 #Retransforming values of SalePrice \n",
    "idd= np.asarray(test['Id'])"
   ]
  },
  {
   "cell_type": "code",
   "execution_count": 87,
   "metadata": {
    "_uuid": "4edfe88a8f5d32b09aa33884e20cb4910b053122"
   },
   "outputs": [],
   "source": [
    "submission= pd.DataFrame({'Id':idd, 'SalePrice':predict})\n",
    "submission.to_csv(\"submit_to_kernel.csv\", index=False)"
   ]
  },
  {
   "cell_type": "markdown",
   "metadata": {
    "_uuid": "fad0fe4fdad4f13e9fc65f682d44b7620b513694"
   },
   "source": [
    "#### And its done!"
   ]
  }
 ],
 "metadata": {
  "kernelspec": {
   "display_name": "Python 3",
   "language": "python",
   "name": "python3"
  },
  "language_info": {
   "codemirror_mode": {
    "name": "ipython",
    "version": 3
   },
   "file_extension": ".py",
   "mimetype": "text/x-python",
   "name": "python",
   "nbconvert_exporter": "python",
   "pygments_lexer": "ipython3",
   "version": "3.6.5"
  }
 },
 "nbformat": 4,
 "nbformat_minor": 1
}
